{
  "nbformat": 4,
  "nbformat_minor": 0,
  "metadata": {
    "colab": {
      "name": "Lab Report 3 Multiplication Properties of Matrices_Palencia_Roxas.ipynb",
      "provenance": [],
      "collapsed_sections": [],
      "include_colab_link": true
    },
    "kernelspec": {
      "name": "python3",
      "display_name": "Python 3"
    },
    "language_info": {
      "name": "python"
    }
  },
  "cells": [
    {
      "cell_type": "markdown",
      "metadata": {
        "id": "view-in-github",
        "colab_type": "text"
      },
      "source": [
        "<a href=\"https://colab.research.google.com/github/aignepalencia/Linear-Algebra_ChE_2nd-Sem-2021-2022/blob/main/Lab_Report_3_Multiplication_Properties_of_Matrices_Palencia_Roxas.ipynb\" target=\"_parent\"><img src=\"https://colab.research.google.com/assets/colab-badge.svg\" alt=\"Open In Colab\"/></a>"
      ]
    },
    {
      "cell_type": "markdown",
      "source": [
        "##Activity, Task 1"
      ],
      "metadata": {
        "id": "bnaPQF4iT6_p"
      }
    },
    {
      "cell_type": "code",
      "execution_count": null,
      "metadata": {
        "id": "B05lQ5QCCF0Z"
      },
      "outputs": [],
      "source": [
        "import numpy as np\n",
        "import matplotlib.pyplot as plt\n",
        "%matplotlib inline"
      ]
    },
    {
      "cell_type": "code",
      "source": [
        "A = np.array([\n",
        "    [6,6,6],\n",
        "    [1,2,3],\n",
        "    [5,5,5]\n",
        "])\n",
        "B = np.array([\n",
        "    [11,12,13],\n",
        "    [16,15,14],\n",
        "    [23,22,21]\n",
        "])\n",
        "C = np.array([\n",
        "    [55,66,77],\n",
        "    [67,23,25],\n",
        "    [62,10,90]\n",
        "])"
      ],
      "metadata": {
        "id": "9s2QcGjKCLw_"
      },
      "execution_count": null,
      "outputs": []
    },
    {
      "cell_type": "markdown",
      "source": [
        "#First Property\n"
      ],
      "metadata": {
        "id": "_1UvYUrzKl_v"
      }
    },
    {
      "cell_type": "code",
      "source": [
        "AmultiB = A @ B\n",
        "AmultiB"
      ],
      "metadata": {
        "colab": {
          "base_uri": "https://localhost:8080/"
        },
        "id": "7C_jld-fCVyo",
        "outputId": "e2ce0f94-c605-45e9-ef90-d48b69605986"
      },
      "execution_count": null,
      "outputs": [
        {
          "output_type": "execute_result",
          "data": {
            "text/plain": [
              "array([[300, 294, 288],\n",
              "       [112, 108, 104],\n",
              "       [250, 245, 240]])"
            ]
          },
          "metadata": {},
          "execution_count": 3
        }
      ]
    },
    {
      "cell_type": "code",
      "source": [
        "BmultiA = B @ A\n",
        "BmultiA"
      ],
      "metadata": {
        "colab": {
          "base_uri": "https://localhost:8080/"
        },
        "id": "6sjUXDddEMAH",
        "outputId": "05271bc9-9ae8-41cd-ccbc-8c210f60de9b"
      },
      "execution_count": null,
      "outputs": [
        {
          "output_type": "execute_result",
          "data": {
            "text/plain": [
              "array([[143, 155, 167],\n",
              "       [181, 196, 211],\n",
              "       [265, 287, 309]])"
            ]
          },
          "metadata": {},
          "execution_count": 4
        }
      ]
    },
    {
      "cell_type": "code",
      "source": [
        "np.array_equal(AmultiB,BmultiA)"
      ],
      "metadata": {
        "colab": {
          "base_uri": "https://localhost:8080/"
        },
        "id": "Z9m-VwzPFbo4",
        "outputId": "3b7a6a60-f5ac-4666-d752-0ee9becd77d0"
      },
      "execution_count": null,
      "outputs": [
        {
          "output_type": "execute_result",
          "data": {
            "text/plain": [
              "False"
            ]
          },
          "metadata": {},
          "execution_count": 5
        }
      ]
    },
    {
      "cell_type": "markdown",
      "source": [
        "#Second Property"
      ],
      "metadata": {
        "id": "_M-F0VfZKsYw"
      }
    },
    {
      "cell_type": "code",
      "source": [
        "BmultiC = B @ C\n",
        "BmultiC"
      ],
      "metadata": {
        "colab": {
          "base_uri": "https://localhost:8080/"
        },
        "id": "m6nkoG-3KyhG",
        "outputId": "8842be0a-90c6-4a10-a0db-d353a48b003e"
      },
      "execution_count": null,
      "outputs": [
        {
          "output_type": "execute_result",
          "data": {
            "text/plain": [
              "array([[2215, 1132, 2317],\n",
              "       [2753, 1541, 2867],\n",
              "       [4041, 2234, 4211]])"
            ]
          },
          "metadata": {},
          "execution_count": 6
        }
      ]
    },
    {
      "cell_type": "code",
      "source": [
        "Left = A @ BmultiC\n",
        "Left"
      ],
      "metadata": {
        "colab": {
          "base_uri": "https://localhost:8080/"
        },
        "id": "jh03uHlVLK7j",
        "outputId": "49db3046-1b96-45e8-d583-765442deb52a"
      },
      "execution_count": null,
      "outputs": [
        {
          "output_type": "execute_result",
          "data": {
            "text/plain": [
              "array([[54054, 29442, 56370],\n",
              "       [19844, 10916, 20684],\n",
              "       [45045, 24535, 46975]])"
            ]
          },
          "metadata": {},
          "execution_count": 8
        }
      ]
    },
    {
      "cell_type": "code",
      "source": [
        "Right = AmultiB @ C\n",
        "Right"
      ],
      "metadata": {
        "colab": {
          "base_uri": "https://localhost:8080/"
        },
        "id": "GiGvVrR0L0Rq",
        "outputId": "b90b66eb-5da1-47eb-8c00-38edba1c1bb7"
      },
      "execution_count": null,
      "outputs": [
        {
          "output_type": "execute_result",
          "data": {
            "text/plain": [
              "array([[54054, 29442, 56370],\n",
              "       [19844, 10916, 20684],\n",
              "       [45045, 24535, 46975]])"
            ]
          },
          "metadata": {},
          "execution_count": 7
        }
      ]
    },
    {
      "cell_type": "code",
      "source": [
        "np.array_equal(Left,Right)"
      ],
      "metadata": {
        "colab": {
          "base_uri": "https://localhost:8080/"
        },
        "id": "DXm_VBoyMA6l",
        "outputId": "97941f0a-d7af-4356-8285-33522b0c115a"
      },
      "execution_count": null,
      "outputs": [
        {
          "output_type": "execute_result",
          "data": {
            "text/plain": [
              "True"
            ]
          },
          "metadata": {},
          "execution_count": 9
        }
      ]
    },
    {
      "cell_type": "markdown",
      "source": [
        "#Third Property\n"
      ],
      "metadata": {
        "id": "UGmtqpaPMlJi"
      }
    },
    {
      "cell_type": "code",
      "source": [
        "BplusC = B + C\n",
        "BplusC"
      ],
      "metadata": {
        "colab": {
          "base_uri": "https://localhost:8080/"
        },
        "id": "x0-Y8REkMoLp",
        "outputId": "bde0b572-c5fc-4962-97b6-8c84d91adce3"
      },
      "execution_count": null,
      "outputs": [
        {
          "output_type": "execute_result",
          "data": {
            "text/plain": [
              "array([[ 66,  78,  90],\n",
              "       [ 83,  38,  39],\n",
              "       [ 85,  32, 111]])"
            ]
          },
          "metadata": {},
          "execution_count": 10
        }
      ]
    },
    {
      "cell_type": "code",
      "source": [
        "AmultiC = A @ C\n",
        "AmultiC"
      ],
      "metadata": {
        "colab": {
          "base_uri": "https://localhost:8080/"
        },
        "id": "yg9xy_yDPV2h",
        "outputId": "9fa4d185-e034-48c9-84a0-c1e4abcf7994"
      },
      "execution_count": null,
      "outputs": [
        {
          "output_type": "execute_result",
          "data": {
            "text/plain": [
              "array([[1104,  594, 1152],\n",
              "       [ 375,  142,  397],\n",
              "       [ 920,  495,  960]])"
            ]
          },
          "metadata": {},
          "execution_count": 11
        }
      ]
    },
    {
      "cell_type": "code",
      "source": [
        "AmultiBlusC= A @ BplusC\n",
        "AmultiBlusC"
      ],
      "metadata": {
        "colab": {
          "base_uri": "https://localhost:8080/"
        },
        "id": "Xmw7FfjxQqcV",
        "outputId": "7f2f3d7d-ec5b-4d9d-c641-d8bc2853be5d"
      },
      "execution_count": null,
      "outputs": [
        {
          "output_type": "execute_result",
          "data": {
            "text/plain": [
              "array([[1404,  888, 1440],\n",
              "       [ 487,  250,  501],\n",
              "       [1170,  740, 1200]])"
            ]
          },
          "metadata": {},
          "execution_count": 12
        }
      ]
    },
    {
      "cell_type": "code",
      "source": [
        "AmultiBplusAmultiC = AmultiB + AmultiC\n",
        "AmultiBplusAmultiC"
      ],
      "metadata": {
        "colab": {
          "base_uri": "https://localhost:8080/"
        },
        "id": "SB5JI7DcQ0ca",
        "outputId": "33dad402-004d-48f6-f72e-d542cbe703c8"
      },
      "execution_count": null,
      "outputs": [
        {
          "output_type": "execute_result",
          "data": {
            "text/plain": [
              "array([[1404,  888, 1440],\n",
              "       [ 487,  250,  501],\n",
              "       [1170,  740, 1200]])"
            ]
          },
          "metadata": {},
          "execution_count": 13
        }
      ]
    },
    {
      "cell_type": "code",
      "source": [
        "np.array_equal(AmultiBlusC,AmultiBplusAmultiC)"
      ],
      "metadata": {
        "colab": {
          "base_uri": "https://localhost:8080/"
        },
        "id": "HkkGkeU7RJae",
        "outputId": "bba76f82-5507-40fe-ed22-d90d4b9f61dc"
      },
      "execution_count": null,
      "outputs": [
        {
          "output_type": "execute_result",
          "data": {
            "text/plain": [
              "True"
            ]
          },
          "metadata": {},
          "execution_count": 14
        }
      ]
    },
    {
      "cell_type": "markdown",
      "source": [
        "#Fourth Property"
      ],
      "metadata": {
        "id": "fI6f4OW8Qd9_"
      }
    },
    {
      "cell_type": "code",
      "source": [
        "Left4th = BplusC @ A\n",
        "Left4th"
      ],
      "metadata": {
        "colab": {
          "base_uri": "https://localhost:8080/"
        },
        "id": "ScscHDBiQhAg",
        "outputId": "e115f5f4-4c93-4666-dcd9-df960dba6aba"
      },
      "execution_count": null,
      "outputs": [
        {
          "output_type": "execute_result",
          "data": {
            "text/plain": [
              "array([[ 924, 1002, 1080],\n",
              "       [ 731,  769,  807],\n",
              "       [1097, 1129, 1161]])"
            ]
          },
          "metadata": {},
          "execution_count": 19
        }
      ]
    },
    {
      "cell_type": "code",
      "source": [
        "Right4th = (B @ A) + (C @ A)\n",
        "Right4th"
      ],
      "metadata": {
        "colab": {
          "base_uri": "https://localhost:8080/"
        },
        "id": "mw4a_DP7Qxuc",
        "outputId": "4e564aa9-5d31-40a6-a341-cad37b0d856f"
      },
      "execution_count": null,
      "outputs": [
        {
          "output_type": "execute_result",
          "data": {
            "text/plain": [
              "array([[ 924, 1002, 1080],\n",
              "       [ 731,  769,  807],\n",
              "       [1097, 1129, 1161]])"
            ]
          },
          "metadata": {},
          "execution_count": 20
        }
      ]
    },
    {
      "cell_type": "code",
      "source": [
        "np.array_equal(Left4th,Right4th)"
      ],
      "metadata": {
        "colab": {
          "base_uri": "https://localhost:8080/"
        },
        "id": "lhheHVBVQ4mQ",
        "outputId": "7954d8cd-2f98-49e0-c392-68239911e757"
      },
      "execution_count": null,
      "outputs": [
        {
          "output_type": "execute_result",
          "data": {
            "text/plain": [
              "True"
            ]
          },
          "metadata": {},
          "execution_count": 21
        }
      ]
    },
    {
      "cell_type": "markdown",
      "source": [
        "#Fifth Property"
      ],
      "metadata": {
        "id": "dNYIM-WLRQks"
      }
    },
    {
      "cell_type": "code",
      "source": [
        "identmat = np.identity(3)\n",
        "identmat\n"
      ],
      "metadata": {
        "colab": {
          "base_uri": "https://localhost:8080/"
        },
        "id": "Hc5-ZCZAVP_R",
        "outputId": "f657f1bc-b059-476f-ca55-20c857dc3df2"
      },
      "execution_count": null,
      "outputs": [
        {
          "output_type": "execute_result",
          "data": {
            "text/plain": [
              "array([[1., 0., 0.],\n",
              "       [0., 1., 0.],\n",
              "       [0., 0., 1.]])"
            ]
          },
          "metadata": {},
          "execution_count": 23
        }
      ]
    },
    {
      "cell_type": "code",
      "source": [
        "Proof5th = A @ identmat\n",
        "Proof5th"
      ],
      "metadata": {
        "colab": {
          "base_uri": "https://localhost:8080/"
        },
        "id": "7gkii9lZWGNY",
        "outputId": "af2ea3e9-0a29-4244-8c00-e1a8964206a4"
      },
      "execution_count": null,
      "outputs": [
        {
          "output_type": "execute_result",
          "data": {
            "text/plain": [
              "array([[6., 6., 6.],\n",
              "       [1., 2., 3.],\n",
              "       [5., 5., 5.]])"
            ]
          },
          "metadata": {},
          "execution_count": 28
        }
      ]
    },
    {
      "cell_type": "code",
      "source": [
        "np.array_equal(A,Proof5th)"
      ],
      "metadata": {
        "colab": {
          "base_uri": "https://localhost:8080/"
        },
        "id": "aqDzJ3WxWYcm",
        "outputId": "4f86e63c-14fc-4b26-db33-899b0c7d1716"
      },
      "execution_count": null,
      "outputs": [
        {
          "output_type": "execute_result",
          "data": {
            "text/plain": [
              "True"
            ]
          },
          "metadata": {},
          "execution_count": 29
        }
      ]
    },
    {
      "cell_type": "markdown",
      "source": [
        "#Sixth Property"
      ],
      "metadata": {
        "id": "UXn8EPTiRjB2"
      }
    },
    {
      "cell_type": "code",
      "source": [
        "Zeromat = np.zeros((3,3))\n",
        "Zeromat"
      ],
      "metadata": {
        "colab": {
          "base_uri": "https://localhost:8080/"
        },
        "id": "viJWzSTgRmKm",
        "outputId": "cd6a5079-6751-40e0-8454-d0b2cc18cfa6"
      },
      "execution_count": null,
      "outputs": [
        {
          "output_type": "execute_result",
          "data": {
            "text/plain": [
              "array([[0., 0., 0.],\n",
              "       [0., 0., 0.],\n",
              "       [0., 0., 0.]])"
            ]
          },
          "metadata": {},
          "execution_count": 27
        }
      ]
    },
    {
      "cell_type": "code",
      "source": [
        "Proof6th = A @ Zeromat\n",
        "Proof6th"
      ],
      "metadata": {
        "colab": {
          "base_uri": "https://localhost:8080/"
        },
        "id": "p6xrBNKDWwdg",
        "outputId": "bfb59e65-c783-406a-8df9-9829509e2aea"
      },
      "execution_count": null,
      "outputs": [
        {
          "output_type": "execute_result",
          "data": {
            "text/plain": [
              "array([[0., 0., 0.],\n",
              "       [0., 0., 0.],\n",
              "       [0., 0., 0.]])"
            ]
          },
          "metadata": {},
          "execution_count": 30
        }
      ]
    },
    {
      "cell_type": "code",
      "source": [
        "np.array_equal(Zeromat,Proof6th)"
      ],
      "metadata": {
        "colab": {
          "base_uri": "https://localhost:8080/"
        },
        "id": "HKN5-FPIW5sU",
        "outputId": "3e170a70-dc64-45ff-f24c-cb14976a3f43"
      },
      "execution_count": null,
      "outputs": [
        {
          "output_type": "execute_result",
          "data": {
            "text/plain": [
              "True"
            ]
          },
          "metadata": {},
          "execution_count": 31
        }
      ]
    }
  ]
}