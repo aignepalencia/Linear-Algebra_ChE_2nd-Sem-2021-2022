{
  "nbformat": 4,
  "nbformat_minor": 0,
  "metadata": {
    "colab": {
      "name": " Assignment 3 Palencia",
      "provenance": [],
      "include_colab_link": true
    },
    "kernelspec": {
      "name": "python3",
      "display_name": "Python 3"
    },
    "language_info": {
      "name": "python"
    }
  },
  "cells": [
    {
      "cell_type": "markdown",
      "metadata": {
        "id": "view-in-github",
        "colab_type": "text"
      },
      "source": [
        "<a href=\"https://colab.research.google.com/github/aignepalencia/Linear-Algebra_ChE_2nd-Sem-2021-2022/blob/main/Assignment_3_Palencia.ipynb\" target=\"_parent\"><img src=\"https://colab.research.google.com/assets/colab-badge.svg\" alt=\"Open In Colab\"/></a>"
      ]
    },
    {
      "cell_type": "markdown",
      "source": [
        "#Linear Algebra for ChE\n",
        "##Assignment 3: Matrices "
      ],
      "metadata": {
        "id": "3QdHG0o0KVfb"
      }
    },
    {
      "cell_type": "markdown",
      "source": [
        "### Objectives\n",
        "At the end of this activity you will be able to:\n",
        "1. Be familiar with matrices and their relation to linear equations.\n",
        "2. Perform basic matrix operations.\n",
        "3. Program and translate matrix equations and operations using Python.\n"
      ],
      "metadata": {
        "id": "R19M5AT9KwRV"
      }
    },
    {
      "cell_type": "markdown",
      "source": [
        "#Discussion"
      ],
      "metadata": {
        "id": "0K3TAm82Kz7D"
      }
    },
    {
      "cell_type": "code",
      "source": [
        "import numpy as np\n",
        "import matplotlib.pyplot as plt\n",
        "import scipy.linalg as la\n",
        "%matplotlib inline\n"
      ],
      "metadata": {
        "id": "1Fl72OL9K1Xz"
      },
      "execution_count": null,
      "outputs": []
    },
    {
      "cell_type": "markdown",
      "source": [
        "###Matrices\n",
        "\n"
      ],
      "metadata": {
        "id": "2Dig7Q4FK9hi"
      }
    },
    {
      "cell_type": "markdown",
      "source": [
        ""
      ],
      "metadata": {
        "id": "wD3omanSLwlT"
      }
    },
    {
      "cell_type": "markdown",
      "source": [
        "$$\n",
        "A = \\left\\{\n",
        "    \\begin{array}\\\n",
        "        x + y \\\\ \n",
        "        4x - 10y\n",
        "    \\end{array}\n",
        "\\right. \\\\\n",
        "B = \\left\\{\n",
        "    \\begin{array}\\\n",
        "        x+y+z \\\\ \n",
        "        3x -2y -z \\\\\n",
        "        -x + 4y +2z\n",
        "    \\end{array}\n",
        "\\right. \\\\\n",
        "C = \\left\\{\n",
        "    \\begin{array}\\\n",
        "       w -2x +3y +4z \\\\ \n",
        "      3w -x -3y +4z \\\\\n",
        "      2w +4x +2y -4z\\\\\n",
        "    \\end{array}\n",
        "\\right. \\\\\n",
        "$$"
      ],
      "metadata": {
        "id": "LBlyHNEvMCB1"
      }
    },
    {
      "cell_type": "markdown",
      "source": [
        "$$\n",
        "A=\\begin{bmatrix} 1 & 1 \\\\ 4 & {-10}\\end{bmatrix} \\\\\n",
        "B=\\begin{bmatrix} 1 & 1 & 1 \\\\ 3 & -2 & -1 \\\\ -1 & 4 & 2\\end{bmatrix}\\\\\n",
        "C=\\begin{bmatrix} 3 & -4 & 3 & -4\\\\ 1 & -1 & -5 & 1 \\\\ 3 & -1 & -4 & 2\\end{bmatrix}\\\\\n",
        "$$\n"
      ],
      "metadata": {
        "id": "PvAeAyF1MYq0"
      }
    },
    {
      "cell_type": "markdown",
      "source": [
        "###Declaring Matrices"
      ],
      "metadata": {
        "id": "5eAdN2rhPhju"
      }
    },
    {
      "cell_type": "markdown",
      "source": [
        "$$A=\\begin{bmatrix}\n",
        "a_{(0,0)}&a_{(0,1)}&\\dots&a_{(0,j-1)}\\\\\n",
        "a_{(1,0)}&a_{(1,1)}&\\dots&a_{(1,j-1)}\\\\\n",
        "\\vdots&\\vdots&\\ddots&\\vdots&\\\\\n",
        "a_{(i-1,0)}&a_{(i-1,1)}&\\dots&a_{(i-1,j-1)}\n",
        "\\end{bmatrix}\n",
        "$$\n"
      ],
      "metadata": {
        "id": "Eg20O7O7QGLn"
      }
    },
    {
      "cell_type": "code",
      "source": [
        "## Since we'll keep on describing matrices, Let's make a function\n",
        "def describe_mat(matrix):\n",
        "    print(f'Matrix:\\n{matrix}\\n\\nShape:\\t{matrix.shape}\\nRank:\\t{matrix.ndim}\\n')\n"
      ],
      "metadata": {
        "id": "9Fm-3yOCQkXL"
      },
      "execution_count": null,
      "outputs": []
    },
    {
      "cell_type": "code",
      "source": [
        "## Declaring a 2 x 2 Matrix\n",
        "A = np.array([\n",
        "    [1, 2],\n",
        "    [3, 1]\n",
        "])\n",
        "describe_mat (A)"
      ],
      "metadata": {
        "colab": {
          "base_uri": "https://localhost:8080/"
        },
        "id": "Uvj_g37NQxCZ",
        "outputId": "eb93d13f-6528-4e84-9d87-c49c3a205435"
      },
      "execution_count": null,
      "outputs": [
        {
          "output_type": "stream",
          "name": "stdout",
          "text": [
            "Matrix:\n",
            "[[1 2]\n",
            " [3 1]]\n",
            "\n",
            "Shape:\t(2, 2)\n",
            "Rank:\t2\n",
            "\n"
          ]
        }
      ]
    },
    {
      "cell_type": "code",
      "source": [
        "G = np.array([\n",
        "    [2,3,4],\n",
        "    [2,4,6]\n",
        "])\n",
        "describe_mat(G)\n"
      ],
      "metadata": {
        "colab": {
          "base_uri": "https://localhost:8080/"
        },
        "id": "FUm_VNshSOtL",
        "outputId": "f966fe35-e501-4735-ebd1-e4c013e1199c"
      },
      "execution_count": null,
      "outputs": [
        {
          "output_type": "stream",
          "name": "stdout",
          "text": [
            "Matrix:\n",
            "[[2 3 4]\n",
            " [2 4 6]]\n",
            "\n",
            "Shape:\t(2, 3)\n",
            "Rank:\t2\n",
            "\n"
          ]
        }
      ]
    },
    {
      "cell_type": "code",
      "source": [
        "## Declaring a 3 x 2 matrix\n",
        "B = np.array([\n",
        "    [4, 8],\n",
        "    [3, 9],\n",
        "    [2, 6]\n",
        "])\n",
        "describe_mat(B)\n"
      ],
      "metadata": {
        "colab": {
          "base_uri": "https://localhost:8080/"
        },
        "id": "Z9hBQcfrScVc",
        "outputId": "e2b337a2-145a-4f88-afd8-efebc48f6649"
      },
      "execution_count": null,
      "outputs": [
        {
          "output_type": "stream",
          "name": "stdout",
          "text": [
            "Matrix:\n",
            "[[4 8]\n",
            " [3 9]\n",
            " [2 6]]\n",
            "\n",
            "Shape:\t(3, 2)\n",
            "Rank:\t2\n",
            "\n"
          ]
        }
      ]
    },
    {
      "cell_type": "code",
      "source": [
        "H = np.array([7,7,7,8])\n",
        "describe_mat(H)\n"
      ],
      "metadata": {
        "colab": {
          "base_uri": "https://localhost:8080/"
        },
        "id": "fLLB3fuUSlgL",
        "outputId": "f95d9c75-fc9e-4907-9cd8-08e316dda62c"
      },
      "execution_count": null,
      "outputs": [
        {
          "output_type": "stream",
          "name": "stdout",
          "text": [
            "Matrix:\n",
            "[7 7 7 8]\n",
            "\n",
            "Shape:\t(4,)\n",
            "Rank:\t1\n",
            "\n"
          ]
        }
      ]
    },
    {
      "cell_type": "markdown",
      "source": [
        "##Categorizing Matrices"
      ],
      "metadata": {
        "id": "iblhdrA5Srnx"
      }
    },
    {
      "cell_type": "markdown",
      "source": [
        "###According to Shape"
      ],
      "metadata": {
        "id": "-p6xrQcFTaX5"
      }
    },
    {
      "cell_type": "markdown",
      "source": [
        "####Row and Column Matrices"
      ],
      "metadata": {
        "id": "wxcCtTP9Td4j"
      }
    },
    {
      "cell_type": "code",
      "source": [
        "## Declaring a Row Matrix\n",
        "\n",
        "rowmatrix1D = np.array([\n",
        "    2, 4, 6, 8\n",
        "]) ## this is a 1-D Matrix with a shape of (3,), it's not really considered as a row matrix.\n",
        "row_mat_2D = np.array([\n",
        "    [3,6,-9, -12]\n",
        "]) ## this is a 2-D Matrix with a shape of (1,3)\n",
        "describe_mat(rowmatrix1D)\n",
        "describe_mat(row_mat_2D)\n"
      ],
      "metadata": {
        "colab": {
          "base_uri": "https://localhost:8080/"
        },
        "id": "izytmy_-Tvim",
        "outputId": "2306a0c4-98a3-41e6-9052-c856af52587b"
      },
      "execution_count": null,
      "outputs": [
        {
          "output_type": "stream",
          "name": "stdout",
          "text": [
            "Matrix:\n",
            "[2 4 6 8]\n",
            "\n",
            "Shape:\t(4,)\n",
            "Rank:\t1\n",
            "\n",
            "Matrix:\n",
            "[[  3   6  -9 -12]]\n",
            "\n",
            "Shape:\t(1, 4)\n",
            "Rank:\t2\n",
            "\n"
          ]
        }
      ]
    },
    {
      "cell_type": "code",
      "source": [
        "## Declaring a Column Matrix\n",
        "col_mat = np.array([\n",
        "    [4],\n",
        "    [10],\n",
        "    [7]\n",
        "]) ## this is a 2-D Matrix with a shape of (3,1)\n",
        "describe_mat(col_mat)\n"
      ],
      "metadata": {
        "colab": {
          "base_uri": "https://localhost:8080/"
        },
        "id": "Q8h4LrU0UhSi",
        "outputId": "d2b488e5-6dd1-441a-be59-371c9c374fd2"
      },
      "execution_count": null,
      "outputs": [
        {
          "output_type": "stream",
          "name": "stdout",
          "text": [
            "Matrix:\n",
            "[[ 4]\n",
            " [10]\n",
            " [ 7]]\n",
            "\n",
            "Shape:\t(3, 1)\n",
            "Rank:\t2\n",
            "\n"
          ]
        }
      ]
    },
    {
      "cell_type": "markdown",
      "source": [
        "####Square Matrices"
      ],
      "metadata": {
        "id": "yxLZU-y4Thth"
      }
    },
    {
      "cell_type": "code",
      "source": [
        "def describe_mat(matrix):\n",
        "    is_square = True if matrix.shape[0] == matrix.shape[1] else False \n",
        "    print(f'Matrix:\\n{matrix}\\n\\nShape:\\t{matrix.shape}\\nRank:\\t{matrix.ndim}\\nIs Square: {is_square}\\n')\n"
      ],
      "metadata": {
        "id": "92IuI1QgVSr9"
      },
      "execution_count": null,
      "outputs": []
    },
    {
      "cell_type": "code",
      "source": [
        "square_mat = np.array([\n",
        "    [1,9,3],\n",
        "    [9,4,6],\n",
        "    [3,6,7]\n",
        "])\n",
        "\n",
        "non_square_mat = np.array([\n",
        "    [5,4,3],\n",
        "    [9,8,7]\n",
        "])\n",
        "describe_mat(square_mat)\n",
        "describe_mat(non_square_mat)\n"
      ],
      "metadata": {
        "colab": {
          "base_uri": "https://localhost:8080/"
        },
        "id": "1vSbx5dVVZwh",
        "outputId": "7a9f937a-7e00-4926-9a50-5c6c739cb84c"
      },
      "execution_count": null,
      "outputs": [
        {
          "output_type": "stream",
          "name": "stdout",
          "text": [
            "Matrix:\n",
            "[[1 9 3]\n",
            " [9 4 6]\n",
            " [3 6 7]]\n",
            "\n",
            "Shape:\t(3, 3)\n",
            "Rank:\t2\n",
            "Is Square: True\n",
            "\n",
            "Matrix:\n",
            "[[5 4 3]\n",
            " [9 8 7]]\n",
            "\n",
            "Shape:\t(2, 3)\n",
            "Rank:\t2\n",
            "Is Square: False\n",
            "\n"
          ]
        }
      ]
    },
    {
      "cell_type": "markdown",
      "source": [
        "##According to Element Values"
      ],
      "metadata": {
        "id": "6536FNNQWINl"
      }
    },
    {
      "cell_type": "markdown",
      "source": [
        "###Null Matrix\n",
        " Null Matrix is a matrix that has no elements. It is always a subspace of any vector or matrix."
      ],
      "metadata": {
        "id": "gqwyoLDYWL4Y"
      }
    },
    {
      "cell_type": "code",
      "source": [
        "def describe_mat(matrix):\n",
        "    if matrix.size > 0:\n",
        "        is_square = True if matrix.shape[0] == matrix.shape[1] else False \n",
        "        print(f'Matrix:\\n{matrix}\\n\\nShape:\\t{matrix.shape}\\nRank:\\t{matrix.ndim}\\nIs Square: {is_square}\\n')\n",
        "    else:\n",
        "        print('Matrix is Null')\n"
      ],
      "metadata": {
        "id": "Wg8LQUfoWOK8"
      },
      "execution_count": null,
      "outputs": []
    },
    {
      "cell_type": "code",
      "source": [
        "null_mat = np.array([])\n",
        "describe_mat(null_mat)\n"
      ],
      "metadata": {
        "colab": {
          "base_uri": "https://localhost:8080/"
        },
        "id": "zPFzP9Q5WWSv",
        "outputId": "0b963528-f398-48e0-e7f4-182592dc2321"
      },
      "execution_count": null,
      "outputs": [
        {
          "output_type": "stream",
          "name": "stdout",
          "text": [
            "Matrix is Null\n"
          ]
        }
      ]
    },
    {
      "cell_type": "markdown",
      "source": [
        "###Zero Matrix\n",
        "A zero matrix can be any rectangular matrix but with all elements having a value of 0."
      ],
      "metadata": {
        "id": "Vzn0tEQrXTFb"
      }
    },
    {
      "cell_type": "code",
      "source": [
        "zero_mat_row = np.zeros((6,4))\n",
        "zero_mat_sqr = np.zeros((3,6))\n",
        "zero_mat_rct = np.zeros((9,8))\n",
        "\n",
        "print(f'Zero Row Matrix: \\n{zero_mat_row}')\n",
        "print(f'Zero Square Matrix: \\n{zero_mat_sqr}')\n",
        "print(f'Zero Rectangular Matrix: \\n{zero_mat_rct}')\n"
      ],
      "metadata": {
        "colab": {
          "base_uri": "https://localhost:8080/"
        },
        "id": "M8R23_RSXVnc",
        "outputId": "41dfff4a-cdf6-4d27-a93a-3c87aee0f87a"
      },
      "execution_count": null,
      "outputs": [
        {
          "output_type": "stream",
          "name": "stdout",
          "text": [
            "Zero Row Matrix: \n",
            "[[0. 0. 0. 0.]\n",
            " [0. 0. 0. 0.]\n",
            " [0. 0. 0. 0.]\n",
            " [0. 0. 0. 0.]\n",
            " [0. 0. 0. 0.]\n",
            " [0. 0. 0. 0.]]\n",
            "Zero Square Matrix: \n",
            "[[0. 0. 0. 0. 0. 0.]\n",
            " [0. 0. 0. 0. 0. 0.]\n",
            " [0. 0. 0. 0. 0. 0.]]\n",
            "Zero Rectangular Matrix: \n",
            "[[0. 0. 0. 0. 0. 0. 0. 0.]\n",
            " [0. 0. 0. 0. 0. 0. 0. 0.]\n",
            " [0. 0. 0. 0. 0. 0. 0. 0.]\n",
            " [0. 0. 0. 0. 0. 0. 0. 0.]\n",
            " [0. 0. 0. 0. 0. 0. 0. 0.]\n",
            " [0. 0. 0. 0. 0. 0. 0. 0.]\n",
            " [0. 0. 0. 0. 0. 0. 0. 0.]\n",
            " [0. 0. 0. 0. 0. 0. 0. 0.]\n",
            " [0. 0. 0. 0. 0. 0. 0. 0.]]\n"
          ]
        }
      ]
    },
    {
      "cell_type": "markdown",
      "source": [
        "###Ones Matrix\n",
        "\n",
        "A ones matrix, just like the zero matrix, can be any rectangular matrix but all of its elements are 1s instead of 0s.\n",
        "\n",
        "\n"
      ],
      "metadata": {
        "id": "uf8H8bG_X3YZ"
      }
    },
    {
      "cell_type": "code",
      "source": [
        "ones_mat_row = np.ones((2,4))\n",
        "ones_mat_sqr = np.ones((3,9))\n",
        "ones_mat_rct = np.ones((5,8))\n",
        "\n",
        "print(f'Ones Row Matrix: \\n{ones_mat_row}')\n",
        "print(f'Ones Square Matrix: \\n{ones_mat_sqr}')\n",
        "print(f'Ones Rectangular Matrix: \\n{ones_mat_rct}')\n"
      ],
      "metadata": {
        "colab": {
          "base_uri": "https://localhost:8080/"
        },
        "id": "ZYpaI3jLX5Eb",
        "outputId": "3fd7e69c-40eb-424c-bf78-c4c11a2d2d8a"
      },
      "execution_count": null,
      "outputs": [
        {
          "output_type": "stream",
          "name": "stdout",
          "text": [
            "Ones Row Matrix: \n",
            "[[1. 1. 1. 1.]\n",
            " [1. 1. 1. 1.]]\n",
            "Ones Square Matrix: \n",
            "[[1. 1. 1. 1. 1. 1. 1. 1. 1.]\n",
            " [1. 1. 1. 1. 1. 1. 1. 1. 1.]\n",
            " [1. 1. 1. 1. 1. 1. 1. 1. 1.]]\n",
            "Ones Rectangular Matrix: \n",
            "[[1. 1. 1. 1. 1. 1. 1. 1.]\n",
            " [1. 1. 1. 1. 1. 1. 1. 1.]\n",
            " [1. 1. 1. 1. 1. 1. 1. 1.]\n",
            " [1. 1. 1. 1. 1. 1. 1. 1.]\n",
            " [1. 1. 1. 1. 1. 1. 1. 1.]]\n"
          ]
        }
      ]
    },
    {
      "cell_type": "markdown",
      "source": [
        "###Diagonal Matrix\n",
        "A diagonal matrix is a square matrix that has values only at the diagonal of the matrix."
      ],
      "metadata": {
        "id": "RcjpxXPnYCaP"
      }
    },
    {
      "cell_type": "code",
      "source": [
        "np.array([\n",
        "    [2,4,6],\n",
        "    [3,7,9],\n",
        "    [4,8,1]\n",
        "])\n",
        "# a[1,1], a[2,2], a[3,3], ... a[n-1,n-1]"
      ],
      "metadata": {
        "colab": {
          "base_uri": "https://localhost:8080/"
        },
        "id": "8R7X9WxoYEdf",
        "outputId": "9f88021c-070e-4d22-84d0-97e75036ec02"
      },
      "execution_count": null,
      "outputs": [
        {
          "output_type": "execute_result",
          "data": {
            "text/plain": [
              "array([[2, 4, 6],\n",
              "       [3, 7, 9],\n",
              "       [4, 8, 1]])"
            ]
          },
          "metadata": {},
          "execution_count": 17
        }
      ]
    },
    {
      "cell_type": "code",
      "source": [
        "d = np.diag([7,2,3,4])\n",
        "d"
      ],
      "metadata": {
        "colab": {
          "base_uri": "https://localhost:8080/"
        },
        "id": "WdweYuSDYHWj",
        "outputId": "8d657e44-89be-4b5b-c224-eb2be1569e6b"
      },
      "execution_count": null,
      "outputs": [
        {
          "output_type": "execute_result",
          "data": {
            "text/plain": [
              "array([[7, 0, 0, 0],\n",
              "       [0, 2, 0, 0],\n",
              "       [0, 0, 3, 0],\n",
              "       [0, 0, 0, 4]])"
            ]
          },
          "metadata": {},
          "execution_count": 20
        }
      ]
    },
    {
      "cell_type": "markdown",
      "source": [
        "##Identity Matrix\n",
        "An identity matrix is a special diagonal matrix in which the values at the diagonal are ones.\n",
        "\n"
      ],
      "metadata": {
        "id": "c0sPYTTIYtAC"
      }
    },
    {
      "cell_type": "code",
      "source": [
        "np.eye(2)"
      ],
      "metadata": {
        "colab": {
          "base_uri": "https://localhost:8080/"
        },
        "id": "rAipWmxOYyIE",
        "outputId": "99148a4b-fa90-485a-95fc-161e74003a99"
      },
      "execution_count": null,
      "outputs": [
        {
          "output_type": "execute_result",
          "data": {
            "text/plain": [
              "array([[1., 0.],\n",
              "       [0., 1.]])"
            ]
          },
          "metadata": {},
          "execution_count": 21
        }
      ]
    },
    {
      "cell_type": "code",
      "source": [
        "np.identity(5)"
      ],
      "metadata": {
        "colab": {
          "base_uri": "https://localhost:8080/"
        },
        "id": "AXqklQDDY2CI",
        "outputId": "fd276464-47be-4d67-acc7-3a0cbf7a3c8a"
      },
      "execution_count": null,
      "outputs": [
        {
          "output_type": "execute_result",
          "data": {
            "text/plain": [
              "array([[1., 0., 0., 0., 0.],\n",
              "       [0., 1., 0., 0., 0.],\n",
              "       [0., 0., 1., 0., 0.],\n",
              "       [0., 0., 0., 1., 0.],\n",
              "       [0., 0., 0., 0., 1.]])"
            ]
          },
          "metadata": {},
          "execution_count": 22
        }
      ]
    },
    {
      "cell_type": "markdown",
      "source": [
        "##Upper Triangular Matrix\n",
        "An upper triangular matrix is a matrix that has no values below the diagonal."
      ],
      "metadata": {
        "id": "MkAY7hBiZNMV"
      }
    },
    {
      "cell_type": "code",
      "source": [
        "np.array([\n",
        "    [1,2,3,4],\n",
        "    [5,6,7,5],\n",
        "    [9,2,-3,4],\n",
        "    [5,6,7,-8]\n",
        "])\n"
      ],
      "metadata": {
        "colab": {
          "base_uri": "https://localhost:8080/"
        },
        "id": "WhIHpaXAZQCS",
        "outputId": "9218a34b-1823-409f-b8ab-6a984d44b628"
      },
      "execution_count": null,
      "outputs": [
        {
          "output_type": "execute_result",
          "data": {
            "text/plain": [
              "array([[ 1,  2,  3,  4],\n",
              "       [ 5,  6,  7,  5],\n",
              "       [ 9,  2, -3,  4],\n",
              "       [ 5,  6,  7, -8]])"
            ]
          },
          "metadata": {},
          "execution_count": 23
        }
      ]
    },
    {
      "cell_type": "code",
      "source": [
        "F = np.array([\n",
        "              [2, 4, -6, -8, 10],\n",
        "              [2, 4, -6, -8, 10],\n",
        "              [2, 4, -6, -8, 10],\n",
        "              [2, 4, -6, -8, 10],\n",
        "              [2, 4, -6, -8, 10],\n",
        "])\n",
        "np.triu(F)"
      ],
      "metadata": {
        "colab": {
          "base_uri": "https://localhost:8080/"
        },
        "id": "zrRDXYrBZYFI",
        "outputId": "a1683b60-50f8-4b2c-96fc-9a5eb67a8eb4"
      },
      "execution_count": null,
      "outputs": [
        {
          "output_type": "execute_result",
          "data": {
            "text/plain": [
              "array([[ 2,  4, -6, -8, 10],\n",
              "       [ 0,  4, -6, -8, 10],\n",
              "       [ 0,  0, -6, -8, 10],\n",
              "       [ 0,  0,  0, -8, 10],\n",
              "       [ 0,  0,  0,  0, 10]])"
            ]
          },
          "metadata": {},
          "execution_count": 38
        }
      ]
    },
    {
      "cell_type": "markdown",
      "source": [
        "##Lower Triangular Matrix\n",
        "A lower triangular matrix is a matrix that has no values above the diagonal.\n",
        "\n"
      ],
      "metadata": {
        "id": "GRVwOYeEaRWo"
      }
    },
    {
      "cell_type": "code",
      "source": [
        "np.array([\n",
        "          [1, 9, 3],\n",
        "          [2, 4, 6],\n",
        "          [3, 7, 9],\n",
        "])"
      ],
      "metadata": {
        "colab": {
          "base_uri": "https://localhost:8080/"
        },
        "id": "KdSBSLg1ad4x",
        "outputId": "151e0c1b-4bb1-4274-a88f-b890f13abc14"
      },
      "execution_count": null,
      "outputs": [
        {
          "output_type": "execute_result",
          "data": {
            "text/plain": [
              "array([[1, 9, 3],\n",
              "       [2, 4, 6],\n",
              "       [3, 7, 9]])"
            ]
          },
          "metadata": {},
          "execution_count": 26
        }
      ]
    },
    {
      "cell_type": "markdown",
      "source": [
        "#Practice"
      ],
      "metadata": {
        "id": "TPQQKSp9a4Vw"
      }
    },
    {
      "cell_type": "markdown",
      "source": [
        "1.Given the linear combination below, try to create a corresponding matrix representing it.\n",
        "\n",
        "\n",
        ":$$\\theta = 5x + 3y - z$$\n"
      ],
      "metadata": {
        "id": "ldiNihTJa5gi"
      }
    },
    {
      "cell_type": "markdown",
      "source": [
        "2. Given the system of linear combinations below, try to encode it as a matrix. Also describe the matrix.\n",
        "\n",
        "$$\n",
        "A = \\left\\{\\begin{array}\n",
        "5x_1 + 2x_2 +x_3\\\\\n",
        "4x_2 - x_3\\\\\n",
        "10x_3\n",
        "\\end{array}\\right.\n",
        "$$\n"
      ],
      "metadata": {
        "id": "r7RRkAUZa-Ns"
      }
    },
    {
      "cell_type": "markdown",
      "source": [
        "3. Given the matrix below, express it as a linear combination in a markdown and a LaTeX markdown\n",
        "\n"
      ],
      "metadata": {
        "id": "KUAwU0rNbGiV"
      }
    },
    {
      "cell_type": "code",
      "source": [
        "G = np.array([\n",
        "    [1,7,8],\n",
        "    [2,2,2],\n",
        "    [4,6,7]\n",
        "])\n"
      ],
      "metadata": {
        "id": "sY-J89_PbK6i"
      },
      "execution_count": null,
      "outputs": []
    },
    {
      "cell_type": "markdown",
      "source": [
        "4. Given the matrix below, display the output as a LaTeX markdown also express it as a system of linear combinations.\n"
      ],
      "metadata": {
        "id": "Ll_T8biRbN_2"
      }
    },
    {
      "cell_type": "code",
      "source": [
        "H = np.tril(G)\n",
        "H\n"
      ],
      "metadata": {
        "colab": {
          "base_uri": "https://localhost:8080/"
        },
        "id": "bXNGbyd5bR1k",
        "outputId": "47bf8449-fa8e-4952-a775-7cc5895d5ee3"
      },
      "execution_count": null,
      "outputs": [
        {
          "output_type": "execute_result",
          "data": {
            "text/plain": [
              "array([[1, 0, 0],\n",
              "       [2, 2, 0],\n",
              "       [4, 6, 7]])"
            ]
          },
          "metadata": {},
          "execution_count": 28
        }
      ]
    },
    {
      "cell_type": "markdown",
      "source": [
        "#Matrix Algebra"
      ],
      "metadata": {
        "id": "BbynDgRrbWCp"
      }
    },
    {
      "cell_type": "markdown",
      "source": [
        "##Addition"
      ],
      "metadata": {
        "id": "GwCMtHz0bYng"
      }
    },
    {
      "cell_type": "code",
      "source": [
        "A= np.array([\n",
        "             [1,2],\n",
        "             [8,2],\n",
        "             [9,2],\n",
        "])\n",
        "B= np. array ([\n",
        "              [1,2],\n",
        "              [1,2],\n",
        "              [1,2],\n",
        "])\n",
        "A+B"
      ],
      "metadata": {
        "colab": {
          "base_uri": "https://localhost:8080/"
        },
        "id": "hX5co359bZ2i",
        "outputId": "44158488-f3fa-40f8-ae7d-7ec72a8d3b62"
      },
      "execution_count": null,
      "outputs": [
        {
          "output_type": "execute_result",
          "data": {
            "text/plain": [
              "array([[ 2,  4],\n",
              "       [ 9,  4],\n",
              "       [10,  4]])"
            ]
          },
          "metadata": {},
          "execution_count": 29
        }
      ]
    },
    {
      "cell_type": "markdown",
      "source": [
        "##Subtraction"
      ],
      "metadata": {
        "id": "cdoXRkQPb48c"
      }
    },
    {
      "cell_type": "code",
      "source": [
        "A= np.array([\n",
        "             [1,2],\n",
        "             [9,2],\n",
        "             [5,2],\n",
        "])\n",
        "B= np. array ([\n",
        "              [1,2],\n",
        "              [4,8],\n",
        "              [1,2],\n",
        "])\n",
        "A-B"
      ],
      "metadata": {
        "colab": {
          "base_uri": "https://localhost:8080/"
        },
        "id": "tVjVsnQKby2E",
        "outputId": "91138276-306b-4454-c931-752668760a08"
      },
      "execution_count": null,
      "outputs": [
        {
          "output_type": "execute_result",
          "data": {
            "text/plain": [
              "array([[ 0,  0],\n",
              "       [ 5, -6],\n",
              "       [ 4,  0]])"
            ]
          },
          "metadata": {},
          "execution_count": 31
        }
      ]
    },
    {
      "cell_type": "markdown",
      "source": [
        "##Element-Wise Multiplication"
      ],
      "metadata": {
        "id": "cBSZ27ROb39E"
      }
    },
    {
      "cell_type": "code",
      "source": [
        "A= np.array([\n",
        "             [1,7],\n",
        "             [8,2],\n",
        "             [1,9],\n",
        "])\n",
        "B= np. array ([\n",
        "              [5,2],\n",
        "              [1,2],\n",
        "])\n",
        "A@B"
      ],
      "metadata": {
        "colab": {
          "base_uri": "https://localhost:8080/"
        },
        "id": "clMiPlsdcavx",
        "outputId": "92cf2fed-213a-468c-a789-973de084a5a6"
      },
      "execution_count": null,
      "outputs": [
        {
          "output_type": "execute_result",
          "data": {
            "text/plain": [
              "array([[12, 16],\n",
              "       [42, 20],\n",
              "       [14, 20]])"
            ]
          },
          "metadata": {},
          "execution_count": 32
        }
      ]
    },
    {
      "cell_type": "markdown",
      "source": [
        "#Task 1\n",
        "Create a function named mat_desc() that througouhly describes a matrix, it should:\n",
        "\n",
        "Displays the shape, size, and rank of the matrix.\n",
        "Displays whether the matrix is square or non-square.\n",
        "Displays whether the matrix is an empty matrix.\n",
        "Displays if the matrix is an identity, ones, or zeros matrix\n",
        "Use 5 sample matrices in which their shapes are not lower than(3,3) . In your methodology, create a flowchart discuss the functions and methods you have done. Present your results in the results section showing the description of each matrix you have declared."
      ],
      "metadata": {
        "id": "BrIIdsLNcs78"
      }
    },
    {
      "cell_type": "code",
      "source": [
        "import numpy as np\n",
        "import matplotlib.pyplot as plt\n",
        "import scipy.linalg as la\n",
        "%matplotlib inline"
      ],
      "metadata": {
        "id": "gm-uWiESvVZ-"
      },
      "execution_count": null,
      "outputs": []
    },
    {
      "cell_type": "code",
      "execution_count": null,
      "metadata": {
        "id": "BdYSi_sAl6rG"
      },
      "outputs": [],
      "source": [
        "def mat_desc(mat):\n",
        "    sq = False\n",
        "    mat = np.array(mat)\n",
        "    print(mat)\n",
        "    print('Shape:', mat.shape)\n",
        "    print('Size:', mat.size)\n",
        "    print('Rank:', np.linalg.matrix_rank(mat))\n",
        "    if(mat.shape[0] == mat.shape[1]):\n",
        "        sq = True\n",
        "        print('The matrix is a square matrix')\n",
        "    else:\n",
        "        print('The matrix is a non-square matrix')\n",
        "    if(mat.shape[0] == 0 and mat.shape[1] == 0):\n",
        "        print('The matrix is empty')\n",
        "    else:\n",
        "        print('The matrix is not empty')\n",
        "    iden = np.identity(mat.shape[0])\n",
        "    if(sq and (iden == mat).all()):\n",
        "        print('The matrix is an identity matrix')\n",
        "    else:\n",
        "        print('The matrix is not an identity matrix')\n",
        "    one = np.ones((mat.shape[0], mat.shape[1]))\n",
        "    if((one == mat).all()):\n",
        "        print('The matrix is a ones matrix')\n",
        "    else:\n",
        "        print('The matrix is not a ones matrix')\n",
        "    zero = np.zeros((mat.shape[0], mat.shape[1]))\n",
        "    if((zero == mat).all()):\n",
        "        print('The matrix is a zeros matrix')\n",
        "    else:\n",
        "      print('The matrix is not a zeros matrix')\n",
        "\n",
        " \n"
      ]
    },
    {
      "cell_type": "code",
      "source": [
        "print ('Matrix 1:')\n",
        "RM1 = np.array([\n",
        "    [1,0,0],\n",
        "    [5,3,0],\n",
        "    [7,8,5]])\n",
        "\n",
        "mat_desc(RM1)\n"
      ],
      "metadata": {
        "colab": {
          "base_uri": "https://localhost:8080/"
        },
        "id": "P6kezUYes9gI",
        "outputId": "92157f82-b34a-4717-f725-4d7435230473"
      },
      "execution_count": null,
      "outputs": [
        {
          "output_type": "stream",
          "name": "stdout",
          "text": [
            "Matrix 1:\n",
            "[[1 0 0]\n",
            " [5 3 0]\n",
            " [7 8 5]]\n",
            "Shape: (3, 3)\n",
            "Size: 9\n",
            "Rank: 3\n",
            "The matrix is a square matrix\n",
            "The matrix is not empty\n",
            "The matrix is not an identity matrix\n",
            "The matrix is not a ones matrix\n",
            "The matrix is not a zeros matrix\n"
          ]
        }
      ]
    },
    {
      "cell_type": "code",
      "source": [
        "print ('Matrix 2:')\n",
        "RM2 = np.array([\n",
        "    [0,0,0],\n",
        "    [0,0,0],\n",
        "    [0,0,0]])\n",
        "\n",
        "mat_desc(RM2)"
      ],
      "metadata": {
        "colab": {
          "base_uri": "https://localhost:8080/"
        },
        "id": "414-jTKbybZ6",
        "outputId": "8c40e042-f13b-4f07-d8f5-5de907904ea5"
      },
      "execution_count": null,
      "outputs": [
        {
          "output_type": "stream",
          "name": "stdout",
          "text": [
            "Matrix 2:\n",
            "[[0 0 0]\n",
            " [0 0 0]\n",
            " [0 0 0]]\n",
            "Shape: (3, 3)\n",
            "Size: 9\n",
            "Rank: 0\n",
            "The matrix is a square matrix\n",
            "The matrix is not empty\n",
            "The matrix is not an identity matrix\n",
            "The matrix is not a ones matrix\n",
            "The matrix is a zeros matrix\n"
          ]
        }
      ]
    },
    {
      "cell_type": "code",
      "source": [
        "print ('Matrix 3:')\n",
        "RM3 = np.array([\n",
        "    [1,1,1],\n",
        "    [1,1,1],\n",
        "    [1,1,1]])\n",
        "\n",
        "mat_desc(RM3)"
      ],
      "metadata": {
        "colab": {
          "base_uri": "https://localhost:8080/"
        },
        "id": "B1MTeZ_Mzy7U",
        "outputId": "561a35a5-2545-46f4-c198-c492711e88c0"
      },
      "execution_count": null,
      "outputs": [
        {
          "output_type": "stream",
          "name": "stdout",
          "text": [
            "Matrix 3:\n",
            "[[1 1 1]\n",
            " [1 1 1]\n",
            " [1 1 1]]\n",
            "Shape: (3, 3)\n",
            "Size: 9\n",
            "Rank: 1\n",
            "The matrix is a square matrix\n",
            "The matrix is not empty\n",
            "The matrix is not an identity matrix\n",
            "The matrix is a ones matrix\n",
            "The matrix is not a zeros matrix\n"
          ]
        }
      ]
    },
    {
      "cell_type": "code",
      "source": [
        "print ('Matrix 4:')\n",
        "RM4 = np.array([\n",
        "    [7,12,3],\n",
        "    [12,32,51],\n",
        "    [32,51,13]])\n",
        "\n",
        "mat_desc(RM4)"
      ],
      "metadata": {
        "colab": {
          "base_uri": "https://localhost:8080/"
        },
        "id": "quIPGdRe0opx",
        "outputId": "24f58a30-68d0-450a-961c-edcc20281124"
      },
      "execution_count": null,
      "outputs": [
        {
          "output_type": "stream",
          "name": "stdout",
          "text": [
            "Matrix 4:\n",
            "[[ 7 12  3]\n",
            " [12 32 51]\n",
            " [32 51 13]]\n",
            "Shape: (3, 3)\n",
            "Size: 9\n",
            "Rank: 3\n",
            "The matrix is a square matrix\n",
            "The matrix is not empty\n",
            "The matrix is not an identity matrix\n",
            "The matrix is not a ones matrix\n",
            "The matrix is not a zeros matrix\n"
          ]
        }
      ]
    },
    {
      "cell_type": "markdown",
      "source": [
        "#Task 2\n",
        "Create a function named mat_operations() that takes in two matrices a input parameters it should:\n",
        "\n",
        "Determines if the matrices are viable for operation and returns your own error message if they are not viable.\n",
        "Returns the sum of the matrices.\n",
        "Returns the differen of the matrices.\n",
        "Returns the element-wise multiplication of the matrices.\n",
        "Returns the element-wise division of the matrices.\n",
        "Use 5 sample matrices in which their shapes are not lower than(3,3) . In your methodology, create a flowchart discuss the functions and methods you have done. Present your results in the results section showing the description of each matrix you have declared."
      ],
      "metadata": {
        "id": "PNYu4A2Mc1Iz"
      }
    },
    {
      "cell_type": "code",
      "source": [
        "import numpy as np\n",
        "import matplotlib.pyplot as plt\n",
        "import scipy.linalg as la\n",
        "%matplotlib inline"
      ],
      "metadata": {
        "id": "gBJqeF5dexDt"
      },
      "execution_count": 14,
      "outputs": []
    },
    {
      "cell_type": "code",
      "source": [
        "def mat_operations(mat1, mat2):\n",
        "    mat1 = np.array(mat1)\n",
        "    mat2 = np.array(mat2)\n",
        "    print('Matrix 1:', mat1)\n",
        "    print('Matrix 2:', mat2)\n",
        "    if(mat1.shape != mat2.shape):\n",
        "        print('The shape of both matrices are not the same. Could not perform operations.')\n",
        "        return\n",
        "    print('Sum of the given matrices:')\n",
        "    msum = mat1 + mat2\n",
        "    print(msum)\n",
        "    print('Difference of the given matrices:')\n",
        "    mdiff = mat1 - mat2\n",
        "    print(mdiff)\n",
        "    print('Element-wise multiplication of the matrices:')\n",
        "    mmul = np.multiply(mat1, mat2)\n",
        "    print(mmul)\n",
        "    print('Element-wise division of the matrices:')\n",
        "    mmul = np.divide(mat1, mat2)\n",
        "    print(mmul)"
      ],
      "metadata": {
        "id": "NAPa24hXV8K0"
      },
      "execution_count": 11,
      "outputs": []
    },
    {
      "cell_type": "code",
      "source": [
        "print('Sample Case: 1')\n",
        "mat_operations([[7, 12, 3], [12, 32, 51], [32, 51, 13]], [[7, 12, 3], [12, 3, 5], [2, 1, 1]])\n",
        "print('Sample Case: 2')\n",
        "mat_operations([[7, 2, 3], [2, 2, 1], [2, 1, 3]], [[8, 2, 7], [2, 3, 5], [2 , 1, 1]])\n",
        "print('Sample Case: 3')\n",
        "mat_operations([[7, 2, 3], [12, 2, 1], [3, 1, 13]], [[7, 1, 2, 3], [1, 2, 3, 5], [0, 7, 3, 5], [2, 1, 1, 4]])\n",
        "print('Sample Case: 4')\n",
        "mat_operations([[0, 0, 0], [2, 0, 1], [0, 1, 3]], [[1, 0, 0], [2, 3, 5], [0, 0, 1]])\n",
        "print('Sample Case: 5')\n",
        "mat_operations([[7, 1, 2, 3], [1, 2, 3, 5], [0, 7, 3, 5]], [[7, 2, 3], [12, 2, 1], [3, 1, 13]])"
      ],
      "metadata": {
        "colab": {
          "base_uri": "https://localhost:8080/"
        },
        "id": "5LtWw2rTZIBY",
        "outputId": "3ba2ddbe-7eab-4cd5-8240-d1df1bffe354"
      },
      "execution_count": 16,
      "outputs": [
        {
          "output_type": "stream",
          "name": "stdout",
          "text": [
            "Sample Case: 1\n",
            "Matrix 1: [[ 7 12  3]\n",
            " [12 32 51]\n",
            " [32 51 13]]\n",
            "Matrix 2: [[ 7 12  3]\n",
            " [12  3  5]\n",
            " [ 2  1  1]]\n",
            "Sum of the given matrices:\n",
            "[[14 24  6]\n",
            " [24 35 56]\n",
            " [34 52 14]]\n",
            "Difference of the given matrices:\n",
            "[[ 0  0  0]\n",
            " [ 0 29 46]\n",
            " [30 50 12]]\n",
            "Element-wise multiplication of the matrices:\n",
            "[[ 49 144   9]\n",
            " [144  96 255]\n",
            " [ 64  51  13]]\n",
            "Element-wise division of the matrices:\n",
            "[[ 1.          1.          1.        ]\n",
            " [ 1.         10.66666667 10.2       ]\n",
            " [16.         51.         13.        ]]\n",
            "Sample Case: 2\n",
            "Matrix 1: [[7 2 3]\n",
            " [2 2 1]\n",
            " [2 1 3]]\n",
            "Matrix 2: [[8 2 7]\n",
            " [2 3 5]\n",
            " [2 1 1]]\n",
            "Sum of the given matrices:\n",
            "[[15  4 10]\n",
            " [ 4  5  6]\n",
            " [ 4  2  4]]\n",
            "Difference of the given matrices:\n",
            "[[-1  0 -4]\n",
            " [ 0 -1 -4]\n",
            " [ 0  0  2]]\n",
            "Element-wise multiplication of the matrices:\n",
            "[[56  4 21]\n",
            " [ 4  6  5]\n",
            " [ 4  1  3]]\n",
            "Element-wise division of the matrices:\n",
            "[[0.875      1.         0.42857143]\n",
            " [1.         0.66666667 0.2       ]\n",
            " [1.         1.         3.        ]]\n",
            "Sample Case: 3\n",
            "Matrix 1: [[ 7  2  3]\n",
            " [12  2  1]\n",
            " [ 3  1 13]]\n",
            "Matrix 2: [[7 1 2 3]\n",
            " [1 2 3 5]\n",
            " [0 7 3 5]\n",
            " [2 1 1 4]]\n",
            "The shape of both matrices are not the same. Could not perform operations.\n",
            "Sample Case: 4\n",
            "Matrix 1: [[0 0 0]\n",
            " [2 0 1]\n",
            " [0 1 3]]\n",
            "Matrix 2: [[1 0 0]\n",
            " [2 3 5]\n",
            " [0 0 1]]\n",
            "Sum of the given matrices:\n",
            "[[1 0 0]\n",
            " [4 3 6]\n",
            " [0 1 4]]\n",
            "Difference of the given matrices:\n",
            "[[-1  0  0]\n",
            " [ 0 -3 -4]\n",
            " [ 0  1  2]]\n",
            "Element-wise multiplication of the matrices:\n",
            "[[0 0 0]\n",
            " [4 0 5]\n",
            " [0 0 3]]\n",
            "Element-wise division of the matrices:\n",
            "[[0.  nan nan]\n",
            " [1.  0.  0.2]\n",
            " [nan inf 3. ]]\n",
            "Sample Case: 5\n",
            "Matrix 1: [[7 1 2 3]\n",
            " [1 2 3 5]\n",
            " [0 7 3 5]]\n",
            "Matrix 2: [[ 7  2  3]\n",
            " [12  2  1]\n",
            " [ 3  1 13]]\n",
            "The shape of both matrices are not the same. Could not perform operations.\n"
          ]
        },
        {
          "output_type": "stream",
          "name": "stderr",
          "text": [
            "/usr/local/lib/python3.7/dist-packages/ipykernel_launcher.py:19: RuntimeWarning: divide by zero encountered in true_divide\n",
            "/usr/local/lib/python3.7/dist-packages/ipykernel_launcher.py:19: RuntimeWarning: invalid value encountered in true_divide\n"
          ]
        }
      ]
    },
    {
      "cell_type": "markdown",
      "source": [
        "#Conclusion"
      ],
      "metadata": {
        "id": "x2Bjjc_vc3wZ"
      }
    }
  ]
}