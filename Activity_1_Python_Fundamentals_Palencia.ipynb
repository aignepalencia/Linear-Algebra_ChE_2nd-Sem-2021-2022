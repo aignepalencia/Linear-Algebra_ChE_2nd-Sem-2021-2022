{
  "nbformat": 4,
  "nbformat_minor": 0,
  "metadata": {
    "colab": {
      "name": "Activity 1 - Python Fundamentals Palencia",
      "provenance": [],
      "collapsed_sections": [],
      "authorship_tag": "ABX9TyOoH+OQnVXb7RUlknVSWh0v",
      "include_colab_link": true
    },
    "kernelspec": {
      "name": "python3",
      "display_name": "Python 3"
    },
    "language_info": {
      "name": "python"
    }
  },
  "cells": [
    {
      "cell_type": "markdown",
      "metadata": {
        "id": "view-in-github",
        "colab_type": "text"
      },
      "source": [
        "<a href=\"https://colab.research.google.com/github/aignepalencia/Linear-Algebra_ChE_2nd-Sem-2021-2022/blob/main/Activity_1_Python_Fundamentals_Palencia.ipynb\" target=\"_parent\"><img src=\"https://colab.research.google.com/assets/colab-badge.svg\" alt=\"Open In Colab\"/></a>"
      ]
    },
    {
      "cell_type": "markdown",
      "source": [
        ""
      ],
      "metadata": {
        "id": "HVCbVMN8_Bca"
      }
    },
    {
      "cell_type": "markdown",
      "source": [
        "# Welcome to Python Fundamentals\n",
        "In this module, we are going to establish or review our skills in Python programming. In this notebook we are going to cover:\n",
        "* Variables and Data Types \n",
        "* Operations\n",
        "* Input and Output Operations\n",
        "* Logic Control\n",
        "* Iterables\n",
        "* Functions\n"
      ],
      "metadata": {
        "id": "lUy7PSEY_t2S"
      }
    },
    {
      "cell_type": "markdown",
      "source": [
        "## Variable and Data Types\n"
      ],
      "metadata": {
        "id": "RJM1MXmzAHUb"
      }
    },
    {
      "cell_type": "code",
      "source": [
        "x = 1\n",
        "a,b = 0, -1\n",
        "x\n"
      ],
      "metadata": {
        "colab": {
          "base_uri": "https://localhost:8080/"
        },
        "id": "l0xEcCYBAPbx",
        "outputId": "5170ae91-b013-453a-9a40-c6c801d0c1df"
      },
      "execution_count": null,
      "outputs": [
        {
          "output_type": "execute_result",
          "data": {
            "text/plain": [
              "1"
            ]
          },
          "metadata": {},
          "execution_count": 1
        }
      ]
    },
    {
      "cell_type": "code",
      "source": [
        "type(x)\n"
      ],
      "metadata": {
        "colab": {
          "base_uri": "https://localhost:8080/"
        },
        "id": "j29yWn8_A9cr",
        "outputId": "d2db1726-27c9-4ae4-ebbb-f0c7ac74990c"
      },
      "execution_count": null,
      "outputs": [
        {
          "output_type": "execute_result",
          "data": {
            "text/plain": [
              "int"
            ]
          },
          "metadata": {},
          "execution_count": 2
        }
      ]
    },
    {
      "cell_type": "code",
      "source": [
        "y = 1.0\n",
        "type(y)\n"
      ],
      "metadata": {
        "colab": {
          "base_uri": "https://localhost:8080/"
        },
        "id": "iAclDtv5Bjj-",
        "outputId": "15de05eb-50e8-4796-8bc0-67e88e2ae3d5"
      },
      "execution_count": null,
      "outputs": [
        {
          "output_type": "execute_result",
          "data": {
            "text/plain": [
              "float"
            ]
          },
          "metadata": {},
          "execution_count": 5
        }
      ]
    },
    {
      "cell_type": "code",
      "source": [
        "x=float(x)\n",
        "type(x)"
      ],
      "metadata": {
        "colab": {
          "base_uri": "https://localhost:8080/"
        },
        "id": "Z49XlYVvB15Y",
        "outputId": "d985809f-df12-4160-b591-edc97f94423a"
      },
      "execution_count": null,
      "outputs": [
        {
          "output_type": "execute_result",
          "data": {
            "text/plain": [
              "float"
            ]
          },
          "metadata": {},
          "execution_count": 6
        }
      ]
    },
    {
      "cell_type": "code",
      "source": [
        "s, t, u = \"0\",'1', 'one'\n",
        "type(u)"
      ],
      "metadata": {
        "colab": {
          "base_uri": "https://localhost:8080/"
        },
        "id": "REo5rNNyCQ0m",
        "outputId": "e35ec796-aa0c-4933-9218-551446fc987b"
      },
      "execution_count": null,
      "outputs": [
        {
          "output_type": "execute_result",
          "data": {
            "text/plain": [
              "str"
            ]
          },
          "metadata": {},
          "execution_count": 10
        }
      ]
    },
    {
      "cell_type": "code",
      "source": [
        "s_int=int(s)\n",
        "s_int"
      ],
      "metadata": {
        "colab": {
          "base_uri": "https://localhost:8080/"
        },
        "id": "RjRnt_MvDzPb",
        "outputId": "957ed175-cb37-419b-b2f4-1681582ab071"
      },
      "execution_count": null,
      "outputs": [
        {
          "output_type": "execute_result",
          "data": {
            "text/plain": [
              "0"
            ]
          },
          "metadata": {},
          "execution_count": 11
        }
      ]
    },
    {
      "cell_type": "markdown",
      "source": [
        "## Operations"
      ],
      "metadata": {
        "id": "SdADmws-D9kC"
      }
    },
    {
      "cell_type": "markdown",
      "source": [
        "### Arithmetic\n"
      ],
      "metadata": {
        "id": "_XAVqV-XERhV"
      }
    },
    {
      "cell_type": "code",
      "source": [
        "e,y,n= 1,2,3"
      ],
      "metadata": {
        "id": "Q6wtddtmEfaQ"
      },
      "execution_count": null,
      "outputs": []
    },
    {
      "cell_type": "code",
      "source": [
        "### Addition\n",
        "S= e+n\n",
        "S"
      ],
      "metadata": {
        "colab": {
          "base_uri": "https://localhost:8080/"
        },
        "id": "N-mjCekNEskD",
        "outputId": "363d51ce-8270-4499-cafe-6589040c20d3"
      },
      "execution_count": null,
      "outputs": [
        {
          "output_type": "execute_result",
          "data": {
            "text/plain": [
              "4"
            ]
          },
          "metadata": {},
          "execution_count": 14
        }
      ]
    },
    {
      "cell_type": "code",
      "source": [
        "### Subtraction\n",
        "X= n-e\n",
        "X\n"
      ],
      "metadata": {
        "colab": {
          "base_uri": "https://localhost:8080/"
        },
        "id": "S6qREOuDFxjd",
        "outputId": "a89c84f3-b474-4081-b8ec-ec1621b6a5d8"
      },
      "execution_count": null,
      "outputs": [
        {
          "output_type": "execute_result",
          "data": {
            "text/plain": [
              "2"
            ]
          },
          "metadata": {},
          "execution_count": 15
        }
      ]
    },
    {
      "cell_type": "code",
      "source": [
        "### Multiplication\n",
        "Z= y*n\n",
        "Z"
      ],
      "metadata": {
        "colab": {
          "base_uri": "https://localhost:8080/"
        },
        "id": "iFLsTvhxGXZ6",
        "outputId": "c3d97e07-78e1-4b40-a527-a98cde96c20f"
      },
      "execution_count": null,
      "outputs": [
        {
          "output_type": "execute_result",
          "data": {
            "text/plain": [
              "6"
            ]
          },
          "metadata": {},
          "execution_count": 16
        }
      ]
    },
    {
      "cell_type": "code",
      "source": [
        "### Division\n",
        "W= n/y \n",
        "W"
      ],
      "metadata": {
        "colab": {
          "base_uri": "https://localhost:8080/"
        },
        "id": "lJ6DcMWVGojj",
        "outputId": "ae45ed95-1c68-439a-a6d3-8cc01c32787c"
      },
      "execution_count": null,
      "outputs": [
        {
          "output_type": "execute_result",
          "data": {
            "text/plain": [
              "1.5"
            ]
          },
          "metadata": {},
          "execution_count": 17
        }
      ]
    },
    {
      "cell_type": "code",
      "source": [
        "### Floor Division\n",
        "FD= y//n\n",
        "FD\n"
      ],
      "metadata": {
        "colab": {
          "base_uri": "https://localhost:8080/"
        },
        "id": "kbOLHpG-G88o",
        "outputId": "23d8aaa4-d4c5-4e2b-ac40-42d2918d591c"
      },
      "execution_count": null,
      "outputs": [
        {
          "output_type": "execute_result",
          "data": {
            "text/plain": [
              "0"
            ]
          },
          "metadata": {},
          "execution_count": 18
        }
      ]
    },
    {
      "cell_type": "code",
      "source": [
        "### Exponentiation\n",
        "E= y**n \n",
        "E\n"
      ],
      "metadata": {
        "colab": {
          "base_uri": "https://localhost:8080/"
        },
        "id": "_OzN0gIkINOZ",
        "outputId": "bc46bd90-d4e8-45db-a19e-70e473caf18e"
      },
      "execution_count": null,
      "outputs": [
        {
          "output_type": "execute_result",
          "data": {
            "text/plain": [
              "8"
            ]
          },
          "metadata": {},
          "execution_count": 20
        }
      ]
    },
    {
      "cell_type": "code",
      "source": [
        "### Module\n",
        "mod= n%y \n",
        "mod"
      ],
      "metadata": {
        "colab": {
          "base_uri": "https://localhost:8080/"
        },
        "id": "kUeAs7-pIswR",
        "outputId": "bc379c1d-ffbe-42c2-bbb0-fc825c6b35c3"
      },
      "execution_count": null,
      "outputs": [
        {
          "output_type": "execute_result",
          "data": {
            "text/plain": [
              "1"
            ]
          },
          "metadata": {},
          "execution_count": 21
        }
      ]
    },
    {
      "cell_type": "markdown",
      "source": [
        "### Assignment Operations"
      ],
      "metadata": {
        "id": "GoiXsQcKJlrB"
      }
    },
    {
      "cell_type": "code",
      "source": [
        "G, H,J,k= 0,100,2,2"
      ],
      "metadata": {
        "id": "jMixF-BnJvJT"
      },
      "execution_count": null,
      "outputs": []
    },
    {
      "cell_type": "code",
      "source": [
        "G += a \n",
        "G"
      ],
      "metadata": {
        "colab": {
          "base_uri": "https://localhost:8080/"
        },
        "id": "_jboiRGQKDO0",
        "outputId": "19517ded-9114-4e87-e170-8a02afc158ca"
      },
      "execution_count": null,
      "outputs": [
        {
          "output_type": "execute_result",
          "data": {
            "text/plain": [
              "0"
            ]
          },
          "metadata": {},
          "execution_count": 24
        }
      ]
    },
    {
      "cell_type": "code",
      "source": [
        "H -= n \n",
        "H "
      ],
      "metadata": {
        "colab": {
          "base_uri": "https://localhost:8080/"
        },
        "id": "2HF52eGMKRCP",
        "outputId": "60c0f2a9-1a24-4925-e30a-b63f264c6180"
      },
      "execution_count": null,
      "outputs": [
        {
          "output_type": "execute_result",
          "data": {
            "text/plain": [
              "97"
            ]
          },
          "metadata": {},
          "execution_count": 25
        }
      ]
    },
    {
      "cell_type": "code",
      "source": [
        "J *=3\n",
        "J"
      ],
      "metadata": {
        "colab": {
          "base_uri": "https://localhost:8080/"
        },
        "id": "WZO93xfCLOEC",
        "outputId": "cc5310f7-59ad-4aad-c803-cbc1e508945d"
      },
      "execution_count": null,
      "outputs": [
        {
          "output_type": "execute_result",
          "data": {
            "text/plain": [
              "6"
            ]
          },
          "metadata": {},
          "execution_count": 26
        }
      ]
    },
    {
      "cell_type": "code",
      "source": [
        "k **=2\n",
        "k"
      ],
      "metadata": {
        "colab": {
          "base_uri": "https://localhost:8080/"
        },
        "id": "Ytqobau1Ld1U",
        "outputId": "bc2ee073-e056-470c-974c-261978880cee"
      },
      "execution_count": null,
      "outputs": [
        {
          "output_type": "execute_result",
          "data": {
            "text/plain": [
              "4"
            ]
          },
          "metadata": {},
          "execution_count": 27
        }
      ]
    },
    {
      "cell_type": "markdown",
      "source": [
        "### Comparators"
      ],
      "metadata": {
        "id": "Z66MsG51MN5D"
      }
    },
    {
      "cell_type": "code",
      "source": [
        "## Equality\n",
        "res_1, res_2, res_3= 1, 2.0, \"1\"\n",
        "true_val= 7"
      ],
      "metadata": {
        "id": "eNS-c1mjVQhl"
      },
      "execution_count": null,
      "outputs": []
    },
    {
      "cell_type": "code",
      "source": [
        "## Equality\n",
        "res_1 == true_val"
      ],
      "metadata": {
        "colab": {
          "base_uri": "https://localhost:8080/"
        },
        "id": "Ku84bGV6X1XF",
        "outputId": "a8f81406-80ef-48b6-b92a-7284bc0516da"
      },
      "execution_count": null,
      "outputs": [
        {
          "output_type": "execute_result",
          "data": {
            "text/plain": [
              "False"
            ]
          },
          "metadata": {},
          "execution_count": 30
        }
      ]
    },
    {
      "cell_type": "code",
      "source": [
        "## Non Equality\n",
        "res_2 != true_val"
      ],
      "metadata": {
        "colab": {
          "base_uri": "https://localhost:8080/"
        },
        "id": "lueQ8Ua2YWW2",
        "outputId": "33d4320d-134d-49c6-c44c-a582265eb326"
      },
      "execution_count": null,
      "outputs": [
        {
          "output_type": "execute_result",
          "data": {
            "text/plain": [
              "True"
            ]
          },
          "metadata": {},
          "execution_count": 32
        }
      ]
    },
    {
      "cell_type": "code",
      "source": [
        "## Inequality\n",
        "t1= res_1>res_2\n",
        "t2= res_1>res_2/4\n",
        "t3= res_1>=res_2/2\n",
        "t4= res_1<=res_2\n",
        "t1"
      ],
      "metadata": {
        "colab": {
          "base_uri": "https://localhost:8080/"
        },
        "id": "12d0hb0qYQZy",
        "outputId": "7412b5ff-057f-4336-8a64-483d6b26810b"
      },
      "execution_count": null,
      "outputs": [
        {
          "output_type": "execute_result",
          "data": {
            "text/plain": [
              "False"
            ]
          },
          "metadata": {},
          "execution_count": 34
        }
      ]
    },
    {
      "cell_type": "markdown",
      "source": [
        "### Logical"
      ],
      "metadata": {
        "id": "xhxEgaHbZj7c"
      }
    },
    {
      "cell_type": "code",
      "source": [
        "res_1 == true_val"
      ],
      "metadata": {
        "colab": {
          "base_uri": "https://localhost:8080/"
        },
        "id": "OytZFLgNZwo_",
        "outputId": "94f09591-a6b5-4166-e994-b5e641c24d2d"
      },
      "execution_count": null,
      "outputs": [
        {
          "output_type": "execute_result",
          "data": {
            "text/plain": [
              "False"
            ]
          },
          "metadata": {},
          "execution_count": 35
        }
      ]
    },
    {
      "cell_type": "code",
      "source": [
        "res_2 is true_val"
      ],
      "metadata": {
        "colab": {
          "base_uri": "https://localhost:8080/"
        },
        "id": "_XjWARPKZ8dm",
        "outputId": "98c6decf-0326-48ee-8576-2efd47841a34"
      },
      "execution_count": null,
      "outputs": [
        {
          "output_type": "execute_result",
          "data": {
            "text/plain": [
              "False"
            ]
          },
          "metadata": {},
          "execution_count": 36
        }
      ]
    },
    {
      "cell_type": "code",
      "source": [
        "res_2 is not true_val"
      ],
      "metadata": {
        "colab": {
          "base_uri": "https://localhost:8080/"
        },
        "id": "lhqOfiftaQkY",
        "outputId": "fc02b20c-58fe-4437-c143-653d13786cee"
      },
      "execution_count": null,
      "outputs": [
        {
          "output_type": "execute_result",
          "data": {
            "text/plain": [
              "True"
            ]
          },
          "metadata": {},
          "execution_count": 37
        }
      ]
    },
    {
      "cell_type": "code",
      "source": [
        "p, q= True, False \n",
        "conj=p and q\n",
        "conj\n"
      ],
      "metadata": {
        "colab": {
          "base_uri": "https://localhost:8080/"
        },
        "id": "NicnYveGablG",
        "outputId": "9b8b2fc7-2431-40d0-a6ba-19ef98b13e8b"
      },
      "execution_count": null,
      "outputs": [
        {
          "output_type": "execute_result",
          "data": {
            "text/plain": [
              "False"
            ]
          },
          "metadata": {},
          "execution_count": 38
        }
      ]
    },
    {
      "cell_type": "code",
      "source": [
        "p, q= True, False \n",
        "disj=p or q\n",
        "disj"
      ],
      "metadata": {
        "colab": {
          "base_uri": "https://localhost:8080/"
        },
        "id": "ybOfYf2ob8Vp",
        "outputId": "439763a8-5964-4732-ccbf-4f86e9afcef7"
      },
      "execution_count": null,
      "outputs": [
        {
          "output_type": "execute_result",
          "data": {
            "text/plain": [
              "True"
            ]
          },
          "metadata": {},
          "execution_count": 39
        }
      ]
    },
    {
      "cell_type": "code",
      "source": [
        "p, q= True, False \n",
        "nand= not (p and q)\n",
        "nand"
      ],
      "metadata": {
        "colab": {
          "base_uri": "https://localhost:8080/"
        },
        "id": "P30DnwbEcN7z",
        "outputId": "b11caed2-8187-47ec-abcb-65c532a49b76"
      },
      "execution_count": null,
      "outputs": [
        {
          "output_type": "execute_result",
          "data": {
            "text/plain": [
              "True"
            ]
          },
          "metadata": {},
          "execution_count": 40
        }
      ]
    },
    {
      "cell_type": "code",
      "source": [
        "p, q= True, False \n",
        "nand= (not p and q) or (q and not p)\n",
        "nand"
      ],
      "metadata": {
        "colab": {
          "base_uri": "https://localhost:8080/"
        },
        "id": "tcLhQGcBcbgN",
        "outputId": "a819f1de-f4d6-4f71-e7ef-ecbee2182141"
      },
      "execution_count": null,
      "outputs": [
        {
          "output_type": "execute_result",
          "data": {
            "text/plain": [
              "False"
            ]
          },
          "metadata": {},
          "execution_count": 41
        }
      ]
    },
    {
      "cell_type": "markdown",
      "source": [
        "### Input/Output"
      ],
      "metadata": {
        "id": "NPOhMERxcpou"
      }
    },
    {
      "cell_type": "code",
      "source": [
        "print(\"Hello Miss Aigne \")"
      ],
      "metadata": {
        "colab": {
          "base_uri": "https://localhost:8080/"
        },
        "id": "2OLNto6BfeCv",
        "outputId": "d76a41ec-a617-4b78-f0b7-bd9f16316678"
      },
      "execution_count": null,
      "outputs": [
        {
          "output_type": "stream",
          "name": "stdout",
          "text": [
            "Hello Miss Aigne \n"
          ]
        }
      ]
    },
    {
      "cell_type": "code",
      "source": [
        "cnt=777"
      ],
      "metadata": {
        "id": "-u809pnPh5gI"
      },
      "execution_count": null,
      "outputs": []
    },
    {
      "cell_type": "code",
      "source": [
        "string=\" Hello Miss Aigne\"\n",
        "print(string, \", Your Lucky number is:\", cnt)\n",
        "cnt +=0"
      ],
      "metadata": {
        "colab": {
          "base_uri": "https://localhost:8080/"
        },
        "id": "VFvQmqpthXXw",
        "outputId": "49670219-fd2d-43be-e191-c70604356c65"
      },
      "execution_count": null,
      "outputs": [
        {
          "output_type": "stream",
          "name": "stdout",
          "text": [
            " Hello Miss Aigne , Your Lucky number is: 777\n"
          ]
        }
      ]
    },
    {
      "cell_type": "code",
      "source": [
        "print(f\"{string},You Lucky number Is: {cnt}\")"
      ],
      "metadata": {
        "colab": {
          "base_uri": "https://localhost:8080/"
        },
        "id": "PaO1CH_iiHU5",
        "outputId": "32011636-1292-439b-bb21-e45ab6e2ed54"
      },
      "execution_count": null,
      "outputs": [
        {
          "output_type": "stream",
          "name": "stdout",
          "text": [
            " Hello Miss Aigne,You Lucky number Is: 777\n"
          ]
        }
      ]
    },
    {
      "cell_type": "code",
      "source": [
        "sem_grade=99.9\n",
        "name=\"Engr. Aigne\"\n",
        "print(\"Hello {}, your astounding semestral grade is: {}\".format(name, sem_grade))"
      ],
      "metadata": {
        "colab": {
          "base_uri": "https://localhost:8080/"
        },
        "id": "333Dug5oilm_",
        "outputId": "fa91b08b-a66d-4db5-8b7f-5c76ed656cc3"
      },
      "execution_count": null,
      "outputs": [
        {
          "output_type": "stream",
          "name": "stdout",
          "text": [
            "Hello Engr. Aigne, your astounding semestral grade is: 99.9\n"
          ]
        }
      ]
    },
    {
      "cell_type": "code",
      "source": [
        "w_pg, w_mg, w_fg = 0.3, 0.3, 0.4\n",
        "print(\"The weights of your semestral grade are:\\\n",
        " \\n\\t{:.2%} for PRELIMS\\\n",
        " \\n\\t{:.2%} for MIDTERMS, and\\\n",
        " \\n\\t{:.2%} for FINALS\".format(w_pg, w_mg, w_fg))"
      ],
      "metadata": {
        "id": "DTUnZ5RLl531",
        "colab": {
          "base_uri": "https://localhost:8080/"
        },
        "outputId": "f7b73c3b-0518-48ae-a123-9edd1747fb70"
      },
      "execution_count": null,
      "outputs": [
        {
          "output_type": "stream",
          "name": "stdout",
          "text": [
            "The weights of your semestral grade are: \n",
            "\t30.00% for PRELIMS \n",
            "\t30.00% for MIDTERMS, and \n",
            "\t40.00% for FINALS\n"
          ]
        }
      ]
    },
    {
      "cell_type": "code",
      "source": [
        "x = input(\"enter a number:\")\n",
        "x"
      ],
      "metadata": {
        "colab": {
          "base_uri": "https://localhost:8080/",
          "height": 53
        },
        "id": "Xh3b0hwoAM5s",
        "outputId": "1c4da73f-b878-4604-8c61-a4bf3b9bd6a2"
      },
      "execution_count": null,
      "outputs": [
        {
          "name": "stdout",
          "output_type": "stream",
          "text": [
            "enter a number:5\n"
          ]
        },
        {
          "output_type": "execute_result",
          "data": {
            "application/vnd.google.colaboratory.intrinsic+json": {
              "type": "string"
            },
            "text/plain": [
              "'5'"
            ]
          },
          "metadata": {},
          "execution_count": 2
        }
      ]
    },
    {
      "cell_type": "code",
      "source": [
        "name = input(\"Kimi no Namae:\")\n",
        "pg = input(\"Enter prelim grade:\")\n",
        "mg = input(\"Enter midterm grade:\")\n",
        "fg = input(\"Enter finals grade:\")\n",
        "sem_grade = 98\n",
        "print(\"Hello {}, your astounding semestral grade is: {}\".format(name, sem_grade))"
      ],
      "metadata": {
        "colab": {
          "base_uri": "https://localhost:8080/"
        },
        "id": "n_Bg25XdDNUm",
        "outputId": "6b4cf89b-a40e-4403-ef9c-d26fc2bb516a"
      },
      "execution_count": null,
      "outputs": [
        {
          "output_type": "stream",
          "name": "stdout",
          "text": [
            "Kimi no Namae:eyn\n",
            "Enter prelim grade:95\n",
            "Enter midterm grade:90\n",
            "Enter finals grade:89\n",
            "Hello eyn, your astounding semestral grade is: 98\n"
          ]
        }
      ]
    },
    {
      "cell_type": "markdown",
      "source": [
        "## Logic Control\n"
      ],
      "metadata": {
        "id": "nXOENc8bFFKD"
      }
    },
    {
      "cell_type": "markdown",
      "source": [
        "### While"
      ],
      "metadata": {
        "id": "jtJ9I8jdFeqI"
      }
    },
    {
      "cell_type": "code",
      "source": [
        "## While Loop\n",
        "i, j =0,10\n",
        "while(i<=j):\n",
        "   print(f\"{i}\\t\\t{j}\")\n",
        "   i+=1"
      ],
      "metadata": {
        "colab": {
          "base_uri": "https://localhost:8080/"
        },
        "id": "yDeeJES6FWra",
        "outputId": "445c55c1-f7de-4186-b2f9-263c1a163904"
      },
      "execution_count": null,
      "outputs": [
        {
          "output_type": "stream",
          "name": "stdout",
          "text": [
            "0\t\t10\n",
            "1\t\t10\n",
            "2\t\t10\n",
            "3\t\t10\n",
            "4\t\t10\n",
            "5\t\t10\n",
            "6\t\t10\n",
            "7\t\t10\n",
            "8\t\t10\n",
            "9\t\t10\n",
            "10\t\t10\n"
          ]
        }
      ]
    },
    {
      "cell_type": "code",
      "source": [
        "# for(int i=0); i<10; i++){\n",
        "# printf(i)\n",
        "# }\n",
        "\n",
        "i=0\n",
        "for i in range(10):\n",
        " print(i)\n"
      ],
      "metadata": {
        "colab": {
          "base_uri": "https://localhost:8080/"
        },
        "id": "BzEQHtG3G4rR",
        "outputId": "ffac6a16-079f-4c89-8a63-c0ec73c024ea"
      },
      "execution_count": null,
      "outputs": [
        {
          "output_type": "stream",
          "name": "stdout",
          "text": [
            "0\n",
            "1\n",
            "2\n",
            "3\n",
            "4\n",
            "5\n",
            "6\n",
            "7\n",
            "8\n",
            "9\n"
          ]
        }
      ]
    },
    {
      "cell_type": "code",
      "source": [
        "Playlist = [\"PSG by Al James\"]\n",
        "print ('Now Playing:\\n')\n",
        "for song in Playlist:\n",
        "   print(song) "
      ],
      "metadata": {
        "colab": {
          "base_uri": "https://localhost:8080/"
        },
        "id": "NDZwj4ZBJgKA",
        "outputId": "c3eb231c-9777-49a8-fb8e-16f85047d9b8"
      },
      "execution_count": null,
      "outputs": [
        {
          "output_type": "stream",
          "name": "stdout",
          "text": [
            "Now Playing:\n",
            "\n",
            "PSG by Al James\n"
          ]
        }
      ]
    },
    {
      "cell_type": "markdown",
      "source": [
        "##Flow Control"
      ],
      "metadata": {
        "id": "K_TAVwqsLB-O"
      }
    },
    {
      "cell_type": "markdown",
      "source": [
        "### Condition Statements"
      ],
      "metadata": {
        "id": "KrfC8qf5LIlA"
      }
    },
    {
      "cell_type": "code",
      "source": [
        "numeral1, numeral2 = 12, 13\n",
        "if(numeral1 == numeral2):\n",
        "   print(\"Yehyuh\")\n",
        "elif(numeral1>numeral2):\n",
        "   print(\"norem ako dito madami\")\n",
        "else:\n",
        "   print(\"hatdog\")\n",
        "\n"
      ],
      "metadata": {
        "colab": {
          "base_uri": "https://localhost:8080/"
        },
        "id": "M2ufojTOLS-T",
        "outputId": "45b7e24b-96e2-45c5-9afc-bf80e7369965"
      },
      "execution_count": null,
      "outputs": [
        {
          "output_type": "stream",
          "name": "stdout",
          "text": [
            "hatdog\n"
          ]
        }
      ]
    },
    {
      "cell_type": "code",
      "source": [
        "# void DeleteUser(int iserid){\n",
        "#     delete(userid);\n",
        "# }\n",
        "\n",
        "def delete_user (userid):\n",
        "    print(\"Successfully deleted user:{}\".format(userid))\n",
        "\n",
        "def delete_all_users ():\n",
        "    print(\"Successfully deleted all users\")"
      ],
      "metadata": {
        "id": "S5FBTtsIMW0-"
      },
      "execution_count": null,
      "outputs": []
    },
    {
      "cell_type": "code",
      "source": [
        "userid = 777222\n",
        "delete_user(777222)\n",
        "delete_all_users()\n",
        "\n"
      ],
      "metadata": {
        "colab": {
          "base_uri": "https://localhost:8080/"
        },
        "id": "bSUxRm3DN_aV",
        "outputId": "817f94a6-8a5a-4367-ee6b-8455f9b8d122"
      },
      "execution_count": null,
      "outputs": [
        {
          "output_type": "stream",
          "name": "stdout",
          "text": [
            "Successfully deleted user:777222\n",
            "Successfully deleted all users\n"
          ]
        }
      ]
    },
    {
      "cell_type": "code",
      "source": [
        "def add(addend1, addend2):\n",
        "    print(\"I love Linear Math so is Adding! eme lang sir\")\n",
        "    return addend1 + addend2\n",
        "\n",
        "\n",
        "def power_of_base2(exponent):\n",
        "    return 2**exponent\n",
        "\n",
        "addend1 =5\n",
        "addend2 =10\n",
        "\n",
        "exponent =5\n",
        "\n",
        "# add(addend1, addend2)\n",
        "power_of_base2(exponent)\n"
      ],
      "metadata": {
        "colab": {
          "base_uri": "https://localhost:8080/"
        },
        "id": "7ij0EsjmOX6M",
        "outputId": "0da01f50-8ae6-47bc-85ad-cf426f09eca9"
      },
      "execution_count": null,
      "outputs": [
        {
          "output_type": "execute_result",
          "data": {
            "text/plain": [
              "32"
            ]
          },
          "metadata": {},
          "execution_count": 33
        }
      ]
    },
    {
      "cell_type": "code",
      "source": [
        "add(addend1, addend2)"
      ],
      "metadata": {
        "colab": {
          "base_uri": "https://localhost:8080/"
        },
        "id": "1Bn3AblrR_wf",
        "outputId": "ac3460fa-3509-4cf9-a7bf-7d7efad8f8d8"
      },
      "execution_count": null,
      "outputs": [
        {
          "output_type": "stream",
          "name": "stdout",
          "text": [
            "I love Linear Math so is Adding! eme lang sir\n"
          ]
        },
        {
          "output_type": "execute_result",
          "data": {
            "text/plain": [
              "15"
            ]
          },
          "metadata": {},
          "execution_count": 34
        }
      ]
    },
    {
      "cell_type": "markdown",
      "source": [
        "##Grade Calculator  :)"
      ],
      "metadata": {
        "id": "-dWGSGFCTtsX"
      }
    },
    {
      "cell_type": "code",
      "source": [
        "name = input(\"Kimi no Namae:\")\n",
        "course = input(\"What is your Course:\")\n",
        "pg = input(\"Enter prelim grade:\")\n",
        "mg = input(\"Enter midterm grade:\")\n",
        "fg = input(\"Enter finals grade:\")\n",
        "SemGrade = float((int(pg) + int(mg) +int(fg))/3)\n",
        "SemGrade = round(SemGrade, 2)\n",
        "PassingGrade= 70\n",
        "print(\"Hello {},from {} your astounding semestral grade is: {}\".format(name, course, SemGrade))\n",
        "if(SemGrade == PassingGrade):\n",
        "  print(\"\\U0001F606\")\n",
        "elif(SemGrade>PassingGrade):\n",
        "  print(\"\\U0001F600\")\n",
        "else:\n",
        "    print(\"\\U0001F62D\")"
      ],
      "metadata": {
        "id": "2z1bA_YfUE-y",
        "colab": {
          "base_uri": "https://localhost:8080/"
        },
        "outputId": "30539f0f-c2e6-4168-ad23-a62ba3e60a18"
      },
      "execution_count": null,
      "outputs": [
        {
          "output_type": "stream",
          "name": "stdout",
          "text": [
            "Kimi no Namae:Aigne\n",
            "What is your Course:Chemical Engineering\n",
            "Enter prelim grade:70\n",
            "Enter midterm grade:80\n",
            "Enter finals grade:80\n",
            "Hello Aigne,from Chemical Engineering your astounding semestral grade is: 76.67\n",
            "😀\n"
          ]
        }
      ]
    }
  ]
}