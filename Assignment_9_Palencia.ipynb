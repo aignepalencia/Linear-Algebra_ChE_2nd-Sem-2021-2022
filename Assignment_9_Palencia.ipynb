{
  "nbformat": 4,
  "nbformat_minor": 0,
  "metadata": {
    "colab": {
      "name": "Assignment 9_Palencia.ipynb",
      "provenance": [],
      "collapsed_sections": [],
      "include_colab_link": true
    },
    "kernelspec": {
      "name": "python3",
      "display_name": "Python 3"
    },
    "language_info": {
      "name": "python"
    }
  },
  "cells": [
    {
      "cell_type": "markdown",
      "metadata": {
        "id": "view-in-github",
        "colab_type": "text"
      },
      "source": [
        "<a href=\"https://colab.research.google.com/github/aignepalencia/Linear-Algebra_ChE_2nd-Sem-2021-2022/blob/main/Assignment_9_Palencia.ipynb\" target=\"_parent\"><img src=\"https://colab.research.google.com/assets/colab-badge.svg\" alt=\"Open In Colab\"/></a>"
      ]
    },
    {
      "cell_type": "markdown",
      "source": [
        "# Lab 2 - Plotting Vector using NumPy and MatPlotLib"
      ],
      "metadata": {
        "id": "ELbPtKzckE4E"
      }
    },
    {
      "cell_type": "markdown",
      "source": [
        "#####In this laboratory activity, the basics of numerical and scientific programming are discussed by working with vectors and through the use of functions such as NumPy and MatPlotLib in the python programming language."
      ],
      "metadata": {
        "id": "IF_nvmMskVyZ"
      }
    },
    {
      "cell_type": "markdown",
      "source": [
        "### Objectives\n",
        "At the end of this activity, students should be able to:\n",
        "1. Familiarized with the libraries in Python in the utilization and performing numerical and scientific programming.\n",
        "2. Conceptualize and envision how vectors are created through Python programming.\n",
        "3. Carry on simple operations regarding vectors through Python programming as well."
      ],
      "metadata": {
        "id": "EC1eexSkkh0c"
      }
    },
    {
      "cell_type": "markdown",
      "source": [
        "##Discussion\n"
      ],
      "metadata": {
        "id": "R7Ua7K9Ckn8s"
      }
    },
    {
      "cell_type": "markdown",
      "source": [
        "###NumPy"
      ],
      "metadata": {
        "id": "J4QJHkpAkqCD"
      }
    },
    {
      "cell_type": "markdown",
      "source": [
        "Numpy is the fundamental package for scientific computing in Python, and a module that implements multi-dimensional arrays and matrices and offers essential data structures. Aside from that, the module also includes the tools needed to generate and manipulate these data structures."
      ],
      "metadata": {
        "id": "am0iklVFkuOO"
      }
    },
    {
      "cell_type": "markdown",
      "source": [
        "**Scalars** \\\\\n",
        "A scalar variable, often known as a scalar field, is a variable that only has one value. It's a single component that can take on a variety of numerical or textual values. Every point in space has a scalar value associated with it.\n",
        "\n",
        "**Vectors** \\\\\n",
        "In mathematics, vectors are used to describe anything with both a direction and a magnitude. The size of the vector is determined by its magnitude. It's represented by a line with an arrow, with the length of the line representing the vector's magnitude and the arrow indicating the direction."
      ],
      "metadata": {
        "id": "qY9H9Z3_kv5r"
      }
    },
    {
      "cell_type": "markdown",
      "metadata": {
        "id": "OXixP-e6Hs4d"
      },
      "source": [
        "## Representing Vectors"
      ]
    },
    {
      "cell_type": "markdown",
      "metadata": {
        "id": "y-nXPTTuHs4e"
      },
      "source": [
        "####Vectors are represented either in a graphical method, magnitude and direction or using the component method. The graphical method requires manually drawing the vectors, which is not ideal for computations. Magnitude and direction, on the other hand, refer to the vector's magnitude and angle. It is not recommended for calculating purposes, much as the graphical technique. The component method comes last. For computations, the component technique, also known as the analytical method, is highly recommended. The component technique is extensively observed throughout the laboratory because the majority of the work revolves around computations.\n",
        "\n",
        "\n",
        "\n",
        "**Now that you know how to represent vectors using their component and matrix form we can now hard-code them in Python. Let's say that you have the vectors:**"
      ]
    },
    {
      "cell_type": "markdown",
      "metadata": {
        "id": "LlEfOzbtHs4e"
      },
      "source": [
        "$$ A = 12\\hat{x} + 24\\hat{y} + 69\\hat{z}\\\\\n",
        "B = 143a\\hat{x} + 66a\\hat{y}\\\\\n",
        "C = 16a\\hat{x} + 72a\\hat{y}  \\\\\n",
        "D = 23\\hat{i} - 11\\hat{j} + 32\\hat{k}$$"
      ]
    },
    {
      "cell_type": "markdown",
      "metadata": {
        "id": "l6LHUvnRHs4f"
      },
      "source": [
        "In which it's matrix equivalent is:"
      ]
    },
    {
      "cell_type": "markdown",
      "metadata": {
        "id": "YKAjjPnYHs4g"
      },
      "source": [
        "$$ A = \\begin{bmatrix} 12 \\\\ 24 \\\\69 \\end{bmatrix} , B = \\begin{bmatrix} 143 \\\\ 66\\end{bmatrix} , C = \\begin{bmatrix} 16 \\\\ 72  \\end{bmatrix}, D = \\begin{bmatrix} 23 \\\\ -11 \\\\ 32\\end{bmatrix} or\n",
        "$$ \n",
        "$$ A = \\begin{bmatrix} 12 & 24 & 69\\end{bmatrix} , B = \\begin{bmatrix} 143 & 66\\end{bmatrix} , C = \\begin{bmatrix} 16 & 72\\end{bmatrix} , D = \\begin{bmatrix} 23 & -11 & 32\\end{bmatrix} \n",
        "$$"
      ]
    },
    {
      "cell_type": "markdown",
      "metadata": {
        "id": "lkrX9lHBHs4g"
      },
      "source": [
        "We can then start doing numpy code with this by:"
      ]
    },
    {
      "cell_type": "code",
      "metadata": {
        "id": "Vi6yz53gHs4h"
      },
      "source": [
        "## Importing the numpy library with the abbreviation of np\n",
        "import numpy as np "
      ],
      "execution_count": 1,
      "outputs": []
    },
    {
      "cell_type": "code",
      "metadata": {
        "colab": {
          "base_uri": "https://localhost:8080/"
        },
        "id": "KGr4fBg0Hs4j",
        "outputId": "6e5325dd-1bff-49ce-8b16-c30461b327b6"
      },
      "source": [
        "## Here, we declare values for vectors A, B, C, and D\n",
        "A = np.array([12, 24,69])\n",
        "B = np.array([143, 66])\n",
        "C = np.array([[16,72]])\n",
        "D = np.array ([[23],\n",
        "              [-11],\n",
        "              [32]])\n",
        "print('Vector A is ', A)\n",
        "print('Vector B is ', B)\n",
        "print('Vector C is ', C)\n",
        "print('Vector D is ', D)"
      ],
      "execution_count": 2,
      "outputs": [
        {
          "output_type": "stream",
          "name": "stdout",
          "text": [
            "Vector A is  [12 24 69]\n",
            "Vector B is  [143  66]\n",
            "Vector C is  [[16 72]]\n",
            "Vector D is  [[ 23]\n",
            " [-11]\n",
            " [ 32]]\n"
          ]
        }
      ]
    },
    {
      "cell_type": "markdown",
      "metadata": {
        "id": "DQhfqdq_Hs4l"
      },
      "source": [
        "#### Describing Vectors in NumPy"
      ]
    },
    {
      "cell_type": "markdown",
      "metadata": {
        "id": "fzU-jDHoHs4m"
      },
      "source": [
        "If we wish to execute basic to complex operations using vectors, we must first describe them. Knowing the shape, size, and dimensions of vectors are the most basic ways to describe them. The following are some of the examples in which vectors are described according to their shape, size, and dimension."
      ]
    },
    {
      "cell_type": "code",
      "metadata": {
        "colab": {
          "base_uri": "https://localhost:8080/"
        },
        "id": "HRz2gx6JHs4n",
        "outputId": "cd0bc3be-3486-4695-a206-364a4dfc9a55"
      },
      "source": [
        "## Checking the shape of Matrix C\n",
        "### Shapes determines how many elements are present on each row and column within a vector\n",
        "\n",
        "\n",
        "C.shape\n"
      ],
      "execution_count": 3,
      "outputs": [
        {
          "output_type": "execute_result",
          "data": {
            "text/plain": [
              "(1, 2)"
            ]
          },
          "metadata": {},
          "execution_count": 3
        }
      ]
    },
    {
      "cell_type": "code",
      "metadata": {
        "colab": {
          "base_uri": "https://localhost:8080/"
        },
        "id": "dlDEokrAHs4o",
        "outputId": "790ade81-de77-49c4-9698-c39c116e582b"
      },
      "source": [
        "### Checking the size of Vector A\n",
        "### Array/Vector sizes tells us many  elements are existent inside a vector\n",
        "\n",
        "A.size"
      ],
      "execution_count": 4,
      "outputs": [
        {
          "output_type": "execute_result",
          "data": {
            "text/plain": [
              "3"
            ]
          },
          "metadata": {},
          "execution_count": 4
        }
      ]
    },
    {
      "cell_type": "code",
      "metadata": {
        "colab": {
          "base_uri": "https://localhost:8080/"
        },
        "id": "lwAQGA_JHs4p",
        "outputId": "0fd0b45b-8565-4be1-855b-c540d3e3b783"
      },
      "source": [
        "### Checking the dimension or rank of Vector B\n",
        "### The dimensions or rank of a vector tells us how many dimensions are found within a vector\n",
        "\n",
        "B.ndim"
      ],
      "execution_count": 5,
      "outputs": [
        {
          "output_type": "execute_result",
          "data": {
            "text/plain": [
              "1"
            ]
          },
          "metadata": {},
          "execution_count": 5
        }
      ]
    },
    {
      "cell_type": "markdown",
      "source": [
        "#Performing Operations on Vectors"
      ],
      "metadata": {
        "id": "sxIt0yZnz70e"
      }
    },
    {
      "cell_type": "markdown",
      "metadata": {
        "id": "tMdCFWyUHs4r"
      },
      "source": [
        "#### Addition"
      ]
    },
    {
      "cell_type": "markdown",
      "source": [
        "\n",
        "When adding vectors, they must be of the same indexes. For example, if we are about to add Vectors A and Vector B, a resulting vector denoted as \"Vector R \" is created.\n"
      ],
      "metadata": {
        "id": "MYCcbqggtXqs"
      }
    },
    {
      "cell_type": "markdown",
      "metadata": {
        "id": "9zUtJ7oEHs4s"
      },
      "source": [
        "$$R = 159a\\hat{x} + 138b\\hat{y} \\\\ \\\\or \\\\ \\\\ R = \\begin{bmatrix} 159 \\\\ 138\\end{bmatrix} $$"
      ]
    },
    {
      "cell_type": "markdown",
      "metadata": {
        "id": "gVg-6JwyHs4s"
      },
      "source": [
        "From there, we can now proceed to adding vectors using the NumPy function in a Python setting."
      ]
    },
    {
      "cell_type": "code",
      "metadata": {
        "id": "X1D_izU4Hs4t",
        "colab": {
          "base_uri": "https://localhost:8080/"
        },
        "outputId": "56a76fa9-e332-4d62-ba6d-e0ddfc8a1f7f"
      },
      "source": [
        "## This is the functional method where we declare a variable upon adding vectors B and C through the use of NumPy function\n",
        "R = np.add(B, C) \n",
        "R\n",
        "\n"
      ],
      "execution_count": 6,
      "outputs": [
        {
          "output_type": "execute_result",
          "data": {
            "text/plain": [
              "array([[159, 138]])"
            ]
          },
          "metadata": {},
          "execution_count": 6
        }
      ]
    },
    {
      "cell_type": "code",
      "metadata": {
        "colab": {
          "base_uri": "https://localhost:8080/"
        },
        "id": "jzH3b6dtHs4t",
        "outputId": "6a7fc8e9-36e6-484b-bcbf-2a4a78db85e4"
      },
      "source": [
        "## This is a more clear-cut method of adding vectors\n",
        "R = B + C   \n",
        "R"
      ],
      "execution_count": 7,
      "outputs": [
        {
          "output_type": "execute_result",
          "data": {
            "text/plain": [
              "array([[159, 138]])"
            ]
          },
          "metadata": {},
          "execution_count": 7
        }
      ]
    },
    {
      "cell_type": "markdown",
      "source": [
        "The following are examples where basic vectors operations are performed through the use of Python language."
      ],
      "metadata": {
        "id": "KaoFJ4s_ynJq"
      }
    },
    {
      "cell_type": "code",
      "metadata": {
        "id": "lFpzDkUbVE-s"
      },
      "source": [
        "## First, we declare values for vectors A, B, C, and D\n",
        "vetA = np.array([13/2,44,35])\n",
        "vetB = np.array([445,123,55])\n",
        "vetC = np.array([289,93,-1875])\n",
        "vetD = np.array([1287,-952,678])\n",
        "\n",
        "## Now, we proceed to the operations"
      ],
      "execution_count": 8,
      "outputs": []
    },
    {
      "cell_type": "code",
      "source": [
        "## First, is the addition of Vectors A and B\n",
        "SUM = np.multiply(vetA, vetB)\n",
        "SUM"
      ],
      "metadata": {
        "colab": {
          "base_uri": "https://localhost:8080/"
        },
        "id": "oHFY_yzizUM6",
        "outputId": "845250bd-08c3-4489-b1e8-d30c65509b10"
      },
      "execution_count": 9,
      "outputs": [
        {
          "output_type": "execute_result",
          "data": {
            "text/plain": [
              "array([2892.5, 5412. , 1925. ])"
            ]
          },
          "metadata": {},
          "execution_count": 9
        }
      ]
    },
    {
      "cell_type": "code",
      "source": [
        "## Here, we proceed to the subtraction of vectors C and A\n",
        "DIFFERENCE = np.subtract(vetC, vetA)\n",
        "DIFFERENCE"
      ],
      "metadata": {
        "colab": {
          "base_uri": "https://localhost:8080/"
        },
        "id": "H8bTac4yyU-G",
        "outputId": "0c9efff4-4fdb-4c00-8afe-465be1ba769f"
      },
      "execution_count": 10,
      "outputs": [
        {
          "output_type": "execute_result",
          "data": {
            "text/plain": [
              "array([  282.5,    49. , -1910. ])"
            ]
          },
          "metadata": {},
          "execution_count": 10
        }
      ]
    },
    {
      "cell_type": "code",
      "source": [
        "## Following, is the multiplication of vectors D and B\n",
        "PRODUCT = np.multiply(vetD, vetB)\n",
        "PRODUCT"
      ],
      "metadata": {
        "colab": {
          "base_uri": "https://localhost:8080/"
        },
        "id": "MFV1iumiyjvf",
        "outputId": "4baeab40-0f7e-4468-e3eb-f53b59ac8421"
      },
      "execution_count": 11,
      "outputs": [
        {
          "output_type": "execute_result",
          "data": {
            "text/plain": [
              "array([ 572715, -117096,   37290])"
            ]
          },
          "metadata": {},
          "execution_count": 11
        }
      ]
    },
    {
      "cell_type": "code",
      "source": [
        "## Lastly, is the division of vectors D and C\n",
        "QUOTIENT = np.divide(vetD, vetC)\n",
        "QUOTIENT"
      ],
      "metadata": {
        "colab": {
          "base_uri": "https://localhost:8080/"
        },
        "id": "rsubwzUMzagY",
        "outputId": "821ce11a-4d83-4401-e60c-6726caa3e7af"
      },
      "execution_count": 12,
      "outputs": [
        {
          "output_type": "execute_result",
          "data": {
            "text/plain": [
              "array([  4.4532872 , -10.23655914,  -0.3616    ])"
            ]
          },
          "metadata": {},
          "execution_count": 12
        }
      ]
    },
    {
      "cell_type": "markdown",
      "metadata": {
        "id": "3otcBr7tHs4w"
      },
      "source": [
        "### Scaling"
      ]
    },
    {
      "cell_type": "markdown",
      "metadata": {
        "id": "FVwvCklOHs4x"
      },
      "source": [
        "Scaling is a drawing technique that enlarges or reduces the size of a drawing while maintaining its proportions. It is usually stated in ratios. When you scale a geometrical vector, you preserve its orientation but change the length by a scale factor. It's similar to enlarging or contracting a photograph; the objects enlarge or contract, but the directions remain the same. "
      ]
    },
    {
      "cell_type": "markdown",
      "source": [
        "**Scalar Multiplication**  is one of the basic operations defining a vector space in linear algebra. It is also where you simply multiply a number into each and every entry of a given matrix. Let's us take a look on the example below:"
      ],
      "metadata": {
        "id": "F4yx0G4F10Jr"
      }
    },
    {
      "cell_type": "markdown",
      "metadata": {
        "id": "8el8_cMUHs4x"
      },
      "source": [
        "Here, we multiplied every quantity in the vector B by a value of 15.\n",
        "$$S = 15 \\cdot B$$\n",
        "\n",
        "\n"
      ]
    },
    {
      "cell_type": "markdown",
      "metadata": {
        "id": "_LwDoJU22Vpb"
      },
      "source": [
        "Hence, the resulting value should be\n",
        "$$ S = \\begin{bmatrix} 2145 & 990\\end{bmatrix} $$\n",
        "\n",
        "\n"
      ]
    },
    {
      "cell_type": "markdown",
      "metadata": {
        "id": "Oh9sk6lKHs4y"
      },
      "source": [
        "We can do this in numpy through:"
      ]
    },
    {
      "cell_type": "code",
      "metadata": {
        "colab": {
          "base_uri": "https://localhost:8080/"
        },
        "id": "QNruUX1pHs4y",
        "outputId": "7d52b1c1-cde5-4c89-8a5f-892e5d88e905"
      },
      "source": [
        "## Here, we defined S as the resulting vector if we were scale vector D by a value of 15\n",
        "S = np.multiply(15,B)\n",
        "S"
      ],
      "execution_count": 13,
      "outputs": [
        {
          "output_type": "execute_result",
          "data": {
            "text/plain": [
              "array([2145,  990])"
            ]
          },
          "metadata": {},
          "execution_count": 13
        }
      ]
    },
    {
      "cell_type": "markdown",
      "metadata": {
        "id": "owN3j6rMWr-3"
      },
      "source": [
        "Now, we will try to implement scaling with two vectors."
      ]
    },
    {
      "cell_type": "code",
      "source": [
        "## For this one, we are going to scale vectors A and C with a value of 8\n",
        "S1 = np.multiply(8,A)\n",
        "S2 = np.multiply(8,C)\n",
        "print ('S1 is equals to', S1)\n",
        "print ('S2 is equals to', S2)"
      ],
      "metadata": {
        "id": "3jWQczl13aX5",
        "colab": {
          "base_uri": "https://localhost:8080/"
        },
        "outputId": "619cff27-051a-4746-992b-0af37d9ced6e"
      },
      "execution_count": 14,
      "outputs": [
        {
          "output_type": "stream",
          "name": "stdout",
          "text": [
            "S1 is equals to [ 96 192 552]\n",
            "S2 is equals to [[128 576]]\n"
          ]
        }
      ]
    },
    {
      "cell_type": "markdown",
      "metadata": {
        "id": "j04WSo4YHs4z"
      },
      "source": [
        "### What is MatPlotLib?"
      ]
    },
    {
      "cell_type": "markdown",
      "metadata": {
        "id": "CP_9s8r-Hs4z"
      },
      "source": [
        "Matplotlib is a data visualization and graphical charting library for Python and its numerical extension NumPy that works across platforms. It is an outstanding Python visualization toolkit for 2D array charts that was introduced by John Hunter in 2002. Furthermore, one of the greatest perks is that it allows us visual access to huge amounts of data in easily digestible visuals as it consists of plots like line, bar, scatter, histogram, etc."
      ]
    },
    {
      "cell_type": "markdown",
      "metadata": {
        "id": "ZM6_LZWWHs42"
      },
      "source": [
        "#### Visualizing Vectors using MatPlotLib"
      ]
    },
    {
      "cell_type": "markdown",
      "metadata": {
        "id": "ziwIKGPHHs43"
      },
      "source": [
        "Here, we explore the potential of Matplotlib because it is not enough to solve these vectors. Moreover, we need to visualize so we can really see how these things work. First and foremost, we need to import the Matplotlib first."
      ]
    },
    {
      "cell_type": "code",
      "metadata": {
        "id": "B2U78WnhHs43"
      },
      "source": [
        "## Here, we import the matplotlibrary in order to make use of it\n",
        "import matplotlib.pyplot as plt\n",
        "import matplotlib\n",
        "%matplotlib inline"
      ],
      "execution_count": 15,
      "outputs": []
    },
    {
      "cell_type": "markdown",
      "source": [
        "#Graphing Vectors in A Vector Space"
      ],
      "metadata": {
        "id": "vshUz7H6Jt_G"
      }
    },
    {
      "cell_type": "code",
      "metadata": {
        "colab": {
          "base_uri": "https://localhost:8080/",
          "height": 248
        },
        "id": "38rzjx3jXkK_",
        "outputId": "b3c8811f-5e9f-48f7-d96c-b7d06b4320bd"
      },
      "source": [
        "## Next, we assign our points and construct our own coordinates and origin \n",
        "A = [-10, 1,3]\n",
        "B = [5, -1,2]\n",
        "## The next command enables us to demonstrate the points in a 3d figure, instead of a 2d manner\n",
        "ax = plt.axes(projection='3d')\n",
        "## Here, we label our point A having the color green.\n",
        "plt.scatter(A[0], A[1], A[2], label='A', c='green')\n",
        "## On the other hand, we label our point B as having a color of magenta.\n",
        "plt.scatter(B[0], B[1],B[2], label='B', c='magenta')\n",
        "## The next commands enable us to see and plot the points in a 3d manner. Also, a legend enables us to identify which and where a point is situated.\n",
        "plt.grid()\n",
        "plt.legend()\n",
        "plt.show()"
      ],
      "execution_count": 16,
      "outputs": [
        {
          "output_type": "display_data",
          "data": {
            "text/plain": [
              "<Figure size 432x288 with 1 Axes>"
            ],
            "image/png": "[encoded data removed]"
          },
          "metadata": {
            "needs_background": "light"
          }
        }
      ]
    },
    {
      "cell_type": "markdown",
      "source": [
        "#Plotting Vectors and its Resultant(2D)"
      ],
      "metadata": {
        "id": "msEjEORjQgR0"
      }
    },
    {
      "cell_type": "code",
      "metadata": {
        "id": "KZgiMGCEZpJn"
      },
      "source": [
        "## We declare the values for Vectors A and B\n",
        "A = np.array([25, -3])\n",
        "B = np.array([12, 35])\n",
        "## It is important to get the magnitude first\n",
        "R = A + B\n",
        "Magnitude = np.sqrt(np.sum(R**2))\n",
        "## We declare a title for our 3d model, as well as the value for our magnitude\n",
        "plt.title(\"Resultant Vector\\nMagnitude:{}\" .format(Magnitude))\n",
        "## The x and y limit of our graph and it should be based on our assigned vectors\n",
        "plt.xlim(-5, 40)\n",
        "plt.ylim(-5, 40)\n",
        "## Quiver is used instead of scatter since we are dealing now with vectors and quiver are used for demonstration of lines\n",
        "## We plot our first vector to the origin or (0,0)\n",
        "plt.quiver(0, 0, A[0], A[1], angles='xy', scale_units='xy', scale=1, color='red')\n",
        "## The next vector should be based on the previous vector that's why our starting coordinate should be at the end, or in this case, A[0] and A[1]\n",
        "plt.quiver(A[0], A[1], B[0], B[1], angles='xy', scale_units='xy', scale=1, color='green')\n",
        "## The resultant should be based on the origin or (0,0)\n",
        "plt.quiver(0, 0, R[0], R[1], angles='xy', scale_units='xy', scale=1, color='black')\n",
        "plt.grid()\n",
        "plt.show()\n",
        "\n",
        "\n",
        "## The following commands are some additional pieces of information when we describe a resultant vector such as what are its coordinates, magnitude, slope, and angle in degrees.\n",
        "print(R)\n",
        "print(Magnitude)\n",
        "Slope = R[1]/R[0]\n",
        "print(Slope)\n",
        "## The additional (180/np.pi) converts the angle from radians to degrees\n",
        "Angle = (np.arctan(Slope))*(180/np.pi)\n",
        "print(Angle)"
      ],
      "execution_count": null,
      "outputs": []
    },
    {
      "cell_type": "code",
      "metadata": {
        "id": "0NZnAZckHs44",
        "outputId": "8b9dcbfa-5bb6-4b5e-872a-92446c18c24b",
        "colab": {
          "base_uri": "https://localhost:8080/",
          "height": 269
        }
      },
      "source": [
        "## Here is another way of portraying the vectors and its resultant but without the grid, colors, and the resultant's coordinate, magnitude, slope, and angle\n",
        "n = A.shape[0]\n",
        "plt.xlim(-5, 40)\n",
        "plt.ylim(-5, 40)\n",
        "plt.quiver(0,0, A[0], A[1], angles='xy', scale_units='xy',scale=1)\n",
        "plt.quiver(A[0],A[1], B[0], B[1], angles='xy', scale_units='xy',scale=1)\n",
        "plt.quiver(0,0, R[0], R[1], angles='xy', scale_units='xy',scale=1)\n",
        "plt.show()"
      ],
      "execution_count": 18,
      "outputs": [
        {
          "output_type": "display_data",
          "data": {
            "text/plain": [
              "<Figure size 432x288 with 1 Axes>"
            ],
            "image/png": "[encoded data removed]"
          },
          "metadata": {
            "needs_background": "light"
          }
        }
      ]
    },
    {
      "cell_type": "markdown",
      "source": [
        "#Plotting Three Vectors and its Resultant(2D"
      ],
      "metadata": {
        "id": "Y1aogq64g2rk"
      }
    },
    {
      "cell_type": "code",
      "source": [
        "## We declare the values for Vectors A and B\n",
        "A = np.array([6, 3])\n",
        "B = np.array([8, -2])\n",
        "C = np.array([5,-6])\n",
        "R = np.array([19,-5])\n",
        "## It is important to get the magnitude first\n",
        "R = A + B + C\n",
        "Magnitude = np.sqrt(np.sum(R**2))\n",
        "## We declare a title for our 3d model, as well as the value for our magnitude\n",
        "plt.title(\"Resultant Vector\\nMagnitude:{}\" .format(Magnitude))\n",
        "## The x and y limit of our graph and it should be based on our assigned vectors\n",
        "plt.xlim(-20, 30)\n",
        "plt.ylim(-20, 30)\n",
        "## Quiver is used instead of scatter since we are dealing now with vectors and quiver are used for demonstration of lines\n",
        "## We plot our first vector to the origin or (0,0)\n",
        "plt.quiver(0, 0, A[0], A[1], angles='xy', scale_units='xy', scale=1, color='red')\n",
        "## The next vector should be based on the previous vector that's why our starting coordinate should be at the end, or in this case, A[0] and A[1]\n",
        "plt.quiver(A[0], A[1], B[0], B[1], angles='xy', scale_units='xy', scale=1, color='green')\n",
        "## Get the points for the resultant of vectors A and B and treat them as a starting point for vector C.\n",
        "plt.quiver(14, 1, C[0], C[1], angles='xy', scale_units='xy', scale=1, color='yellow')\n",
        "## The resultant should be based on the origin or (0,0)\n",
        "plt.quiver(0, 0, R[0], R[1], angles='xy', scale_units='xy', scale=1, color='black')\n",
        "plt.grid()\n",
        "plt.show()\n",
        "\n",
        "\n",
        "## The following commands are some additional pieces of information when we describe a resultant vector such as what are its coordinates, magnitude, slope, and angle in degrees.\n",
        "print(R)\n",
        "print(Magnitude)\n",
        "Slope = R[1]/R[0]\n",
        "print(Slope)\n",
        "## The additional (180/np.pi) converts the angle from radians to degrees\n",
        "Angle = (np.arctan(Slope))*(180/np.pi)\n",
        "print(Angle)"
      ],
      "metadata": {
        "colab": {
          "base_uri": "https://localhost:8080/",
          "height": 368
        },
        "id": "ic1YwJhiXYyG",
        "outputId": "6044267e-7d70-41a4-d6e1-56d1001c71c3"
      },
      "execution_count": 19,
      "outputs": [
        {
          "output_type": "display_data",
          "data": {
            "text/plain": [
              "<Figure size 432x288 with 1 Axes>"
            ],
            "image/png": "[encoded data removed]"
          },
          "metadata": {
            "needs_background": "light"
          }
        },
        {
          "output_type": "stream",
          "name": "stdout",
          "text": [
            "[19 -5]\n",
            "19.6468827043885\n",
            "-0.2631578947368421\n",
            "-14.743562836470735\n"
          ]
        }
      ]
    }
  ]
}